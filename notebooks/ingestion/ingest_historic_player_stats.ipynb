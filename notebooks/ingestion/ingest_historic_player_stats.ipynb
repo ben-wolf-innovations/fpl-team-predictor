{
 "cells": [
  {
   "cell_type": "code",
   "execution_count": 0,
   "metadata": {
    "application/vnd.databricks.v1+cell": {
     "cellMetadata": {
      "byteLimit": 2048000,
      "rowLimit": 10000
     },
     "inputWidgets": {},
     "nuid": "ae49a207-e4b4-4057-ab86-e407107a229e",
     "showTitle": false,
     "tableResultSettingsMap": {},
     "title": ""
    }
   },
   "outputs": [],
   "source": [
    "import os"
   ]
  },
  {
   "cell_type": "code",
   "execution_count": 0,
   "metadata": {
    "application/vnd.databricks.v1+cell": {
     "cellMetadata": {
      "byteLimit": 2048000,
      "rowLimit": 10000
     },
     "inputWidgets": {},
     "nuid": "79ba3c29-5e2a-40c3-85fb-3f1465ae0a2d",
     "showTitle": false,
     "tableResultSettingsMap": {},
     "title": ""
    }
   },
   "outputs": [],
   "source": [
    "ENV = \"dev\"\n",
    "bronze_schema = f\"fpl_bronze_{ENV}\""
   ]
  },
  {
   "cell_type": "code",
   "execution_count": 0,
   "metadata": {
    "application/vnd.databricks.v1+cell": {
     "cellMetadata": {
      "byteLimit": 2048000,
      "rowLimit": 10000
     },
     "inputWidgets": {},
     "nuid": "d364ce27-7f6e-4811-8e30-3e1203f6aa78",
     "showTitle": false,
     "tableResultSettingsMap": {},
     "title": ""
    }
   },
   "outputs": [
    {
     "output_type": "stream",
     "name": "stdout",
     "output_type": "stream",
     "text": [
      "Writing to: fpl_bronze_dev.player_gameweek_stats_16_17\nWritten Delta table: player_gameweek_stats_16_17\nWriting to: fpl_bronze_dev.players_raw_16_17\nWritten Delta table: players_raw_16_17\nWriting to: fpl_bronze_dev.player_gameweek_stats_17_18\nWritten Delta table: player_gameweek_stats_17_18\nWriting to: fpl_bronze_dev.players_raw_17_18\nWritten Delta table: players_raw_17_18\nWriting to: fpl_bronze_dev.player_gameweek_stats_18_19\nWritten Delta table: player_gameweek_stats_18_19\nWriting to: fpl_bronze_dev.players_raw_18_19\nWritten Delta table: players_raw_18_19\nWriting to: fpl_bronze_dev.player_gameweek_stats_19_20\nWritten Delta table: player_gameweek_stats_19_20\nWriting to: fpl_bronze_dev.players_raw_19_20\nWritten Delta table: players_raw_19_20\nWriting to: fpl_bronze_dev.player_gameweek_stats_20_21\nWritten Delta table: player_gameweek_stats_20_21\nWriting to: fpl_bronze_dev.players_raw_20_21\nWritten Delta table: players_raw_20_21\nWriting to: fpl_bronze_dev.player_gameweek_stats_21_22\nWritten Delta table: player_gameweek_stats_21_22\nWriting to: fpl_bronze_dev.players_raw_21_22\nWritten Delta table: players_raw_21_22\nWriting to: fpl_bronze_dev.player_gameweek_stats_22_23\nWritten Delta table: player_gameweek_stats_22_23\nWriting to: fpl_bronze_dev.players_raw_22_23\nWritten Delta table: players_raw_22_23\nWriting to: fpl_bronze_dev.player_gameweek_stats_23_24\nWritten Delta table: player_gameweek_stats_23_24\nWriting to: fpl_bronze_dev.players_raw_23_24\nWritten Delta table: players_raw_23_24\nWriting to: fpl_bronze_dev.player_gameweek_stats_24_25\nWritten Delta table: player_gameweek_stats_24_25\nWriting to: fpl_bronze_dev.players_raw_24_25\nWritten Delta table: players_raw_24_25\nSkipping folder: 2025_26\n"
     ]
    }
   ],
   "source": [
    "# Base path to your volume\n",
    "base_path = \"/Volumes/workspace/fpl_raw/player_data\"\n",
    "output_base = f\"{bronze_schema}\"\n",
    "\n",
    "for folder in os.listdir(base_path):\n",
    "    folder_path = os.path.join(base_path, folder)\n",
    "\n",
    "    # Skip non-directories\n",
    "    if not os.path.isdir(folder_path):\n",
    "        continue\n",
    "\n",
    "    # Extract season years\n",
    "    try:\n",
    "        start_year, end_year = folder.split(\"_\")\n",
    "        start_year_int = int(start_year)\n",
    "    except ValueError:\n",
    "        print(f\"Skipping folder: {folder}\")\n",
    "        continue\n",
    "\n",
    "    # Skip folders from 2025_26 onwards\n",
    "    if start_year_int >= 2025:\n",
    "        print(f\"Skipping folder: {folder}\")\n",
    "        continue\n",
    "\n",
    "    start_year_short = start_year[2:]\n",
    "    csv_file = f\"all_player_stats_{start_year_short}_{end_year}.csv\"\n",
    "    csv_path = os.path.join(folder_path, csv_file)\n",
    "\n",
    "    try:\n",
    "        df = spark.read.option(\"header\", True).option(\"encoding\", \"utf-8\").csv(csv_path) #set schema or all string?\n",
    "    except Exception as e:\n",
    "        print(f\"Failed to read {csv_path}: {e}\")\n",
    "        continue\n",
    "\n",
    "    delta_table_name = f\"{output_base}.player_gameweek_stats_{start_year_short}_{end_year}\"\n",
    "    print(\"Writing to:\", delta_table_name)\n",
    "\n",
    "    df.write.format(\"delta\").mode(\"overwrite\").option(\"overwriteSchema\", \"true\").saveAsTable(delta_table_name)\n",
    "    print(f\"Written Delta table: player_gameweek_stats_{start_year_short}_{end_year}\")\n",
    "\n",
    "    csv_file = f\"players_raw_{start_year_short}_{end_year}.csv\"\n",
    "    csv_path = os.path.join(folder_path, csv_file)\n",
    "\n",
    "    try:\n",
    "        df = spark.read.option(\"header\", True).option(\"encoding\", \"utf-8\").csv(csv_path) #set schema or all string?\n",
    "    except Exception as e:\n",
    "        print(f\"Failed to read {csv_path}: {e}\")\n",
    "        continue\n",
    "\n",
    "    delta_table_name = f\"{output_base}.players_raw_{start_year_short}_{end_year}\"\n",
    "    print(\"Writing to:\", delta_table_name)\n",
    "\n",
    "    df.write.format(\"delta\").mode(\"overwrite\").option(\"overwriteSchema\", \"true\").saveAsTable(delta_table_name)\n",
    "    print(f\"Written Delta table: players_raw_{start_year_short}_{end_year}\")"
   ]
  }
 ],
 "metadata": {
  "application/vnd.databricks.v1+notebook": {
   "computePreferences": null,
   "dashboards": [],
   "environmentMetadata": {
    "base_environment": "",
    "environment_version": "4"
   },
   "inputWidgetPreferences": null,
   "language": "python",
   "notebookMetadata": {
    "pythonIndentUnit": 4
   },
   "notebookName": "ingest_historic_player_stats",
   "widgets": {}
  },
  "language_info": {
   "name": "python"
  }
 },
 "nbformat": 4,
 "nbformat_minor": 0
}