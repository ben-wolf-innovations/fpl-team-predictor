{
 "cells": [
  {
   "cell_type": "code",
   "execution_count": 0,
   "metadata": {
    "application/vnd.databricks.v1+cell": {
     "cellMetadata": {
      "byteLimit": 2048000,
      "rowLimit": 10000
     },
     "inputWidgets": {},
     "nuid": "007d532e-2815-4711-aeef-d0517a2021d5",
     "showTitle": false,
     "tableResultSettingsMap": {},
     "title": ""
    }
   },
   "outputs": [],
   "source": [
    "import pyspark.sql.functions as F\n",
    "from pyspark.sql.window import Window"
   ]
  },
  {
   "cell_type": "markdown",
   "metadata": {
    "application/vnd.databricks.v1+cell": {
     "cellMetadata": {},
     "inputWidgets": {},
     "nuid": "48a073bf-459f-4e49-8ded-8111d9a28fa7",
     "showTitle": false,
     "tableResultSettingsMap": {},
     "title": ""
    }
   },
   "source": [
    "#Get all teams across seasons\n",
    "\n",
    "Get all teams from players_raw and current teams in bootstrap-static. \n",
    "\n",
    "Manually identify teams for ids between seasons. \"team_code\" is common across seasons. Load to csv in fpl_raw to ingest to bronze and silver."
   ]
  },
  {
   "cell_type": "code",
   "execution_count": 0,
   "metadata": {
    "application/vnd.databricks.v1+cell": {
     "cellMetadata": {
      "byteLimit": 2048000,
      "rowLimit": 10000
     },
     "inputWidgets": {},
     "nuid": "53a76931-f8bf-4bc4-b96f-150ba94910a2",
     "showTitle": false,
     "tableResultSettingsMap": {},
     "title": ""
    }
   },
   "outputs": [
    {
     "output_type": "display_data",
     "data": {
      "text/html": [
       "<style scoped>\n",
       "  .table-result-container {\n",
       "    max-height: 300px;\n",
       "    overflow: auto;\n",
       "  }\n",
       "  table, th, td {\n",
       "    border: 1px solid black;\n",
       "    border-collapse: collapse;\n",
       "  }\n",
       "  th, td {\n",
       "    padding: 5px;\n",
       "  }\n",
       "  th {\n",
       "    text-align: left;\n",
       "  }\n",
       "</style><div class='table-result-container'><table class='table-result'><thead style='background-color: white'><tr><th>season</th><th>team_code</th><th>team_id</th><th>full_name</th><th>team_name</th><th>team_name_short</th><th>is_promoted</th><th>is_relegated</th></tr></thead><tbody><tr><td>16_17</td><td>1</td><td>11</td><td>Anthony Martial</td><td>null</td><td>null</td><td>null</td><td>null</td></tr><tr><td>16_17</td><td>11</td><td>6</td><td>Joel Robles</td><td>null</td><td>null</td><td>null</td><td>null</td></tr><tr><td>16_17</td><td>110</td><td>14</td><td>Saido Berahino</td><td>null</td><td>null</td><td>null</td><td>null</td></tr><tr><td>16_17</td><td>13</td><td>8</td><td>Nampalys Mendy</td><td>null</td><td>null</td><td>null</td><td>null</td></tr><tr><td>16_17</td><td>14</td><td>9</td><td>Dejan Lovren</td><td>null</td><td>null</td><td>null</td><td>null</td></tr><tr><td>16_17</td><td>20</td><td>13</td><td>Florin Gardos</td><td>null</td><td>null</td><td>null</td><td>null</td></tr><tr><td>16_17</td><td>21</td><td>20</td><td>Aaron Cresswell</td><td>null</td><td>null</td><td>null</td><td>null</td></tr><tr><td>16_17</td><td>25</td><td>12</td><td>Adam Clayton</td><td>null</td><td>null</td><td>null</td><td>null</td></tr><tr><td>16_17</td><td>3</td><td>1</td><td>Héctor Bellerín</td><td>null</td><td>null</td><td>null</td><td>null</td></tr><tr><td>16_17</td><td>31</td><td>5</td><td>Ezekiel Fryers</td><td>null</td><td>null</td><td>null</td><td>null</td></tr><tr><td>16_17</td><td>35</td><td>19</td><td>Rickie Lambert</td><td>null</td><td>null</td><td>null</td><td>null</td></tr><tr><td>16_17</td><td>43</td><td>10</td><td>John Stones</td><td>null</td><td>null</td><td>null</td><td>null</td></tr><tr><td>16_17</td><td>56</td><td>15</td><td>Michael Simões Domingues</td><td>null</td><td>null</td><td>null</td><td>null</td></tr><tr><td>16_17</td><td>57</td><td>18</td><td>Costel Pantilimon</td><td>null</td><td>null</td><td>null</td><td>null</td></tr><tr><td>16_17</td><td>6</td><td>17</td><td>Vincent Janssen</td><td>null</td><td>null</td><td>null</td><td>null</td></tr><tr><td>16_17</td><td>8</td><td>4</td><td>Nathaniel Chalobah</td><td>null</td><td>null</td><td>null</td><td>null</td></tr><tr><td>16_17</td><td>80</td><td>16</td><td>Jefferson Montero</td><td>null</td><td>null</td><td>null</td><td>null</td></tr><tr><td>16_17</td><td>88</td><td>7</td><td>Greg Olley</td><td>null</td><td>null</td><td>null</td><td>null</td></tr><tr><td>16_17</td><td>90</td><td>3</td><td>George Boyd</td><td>null</td><td>null</td><td>null</td><td>null</td></tr><tr><td>16_17</td><td>91</td><td>2</td><td>Harry Arter</td><td>null</td><td>null</td><td>null</td><td>null</td></tr><tr><td>17_18</td><td>1</td><td>12</td><td>Juan Mata</td><td>null</td><td>null</td><td>null</td><td>null</td></tr><tr><td>17_18</td><td>11</td><td>7</td><td>Ashley Williams</td><td>null</td><td>null</td><td>null</td><td>null</td></tr><tr><td>17_18</td><td>110</td><td>15</td><td>Charlie Adam</td><td>null</td><td>null</td><td>null</td><td>null</td></tr><tr><td>17_18</td><td>13</td><td>9</td><td>Aleksandar Dragovic</td><td>null</td><td>null</td><td>null</td><td>null</td></tr><tr><td>17_18</td><td>14</td><td>10</td><td>Alex Oxlade-Chamberlain</td><td>null</td><td>null</td><td>null</td><td>null</td></tr><tr><td>17_18</td><td>20</td><td>14</td><td>Jack Stephens</td><td>null</td><td>null</td><td>null</td><td>null</td></tr><tr><td>17_18</td><td>21</td><td>20</td><td>Angelo Ogbonna</td><td>null</td><td>null</td><td>null</td><td>null</td></tr><tr><td>17_18</td><td>3</td><td>1</td><td>Mathieu Debuchy</td><td>null</td><td>null</td><td>null</td><td>null</td></tr><tr><td>17_18</td><td>31</td><td>6</td><td>Nya Kirby</td><td>null</td><td>null</td><td>null</td><td>null</td></tr><tr><td>17_18</td><td>35</td><td>19</td><td>Salomón Rondón</td><td>null</td><td>null</td><td>null</td><td>null</td></tr><tr><td>17_18</td><td>36</td><td>3</td><td>Connor Goldson</td><td>null</td><td>null</td><td>null</td><td>null</td></tr><tr><td>17_18</td><td>38</td><td>8</td><td>Jonas Lössl</td><td>null</td><td>null</td><td>null</td><td>null</td></tr><tr><td>17_18</td><td>4</td><td>13</td><td>Paul Dummett</td><td>null</td><td>null</td><td>null</td><td>null</td></tr><tr><td>17_18</td><td>43</td><td>11</td><td>Manuel Agudo Durán</td><td>null</td><td>null</td><td>null</td><td>null</td></tr><tr><td>17_18</td><td>57</td><td>18</td><td>Andre Gray</td><td>null</td><td>null</td><td>null</td><td>null</td></tr><tr><td>17_18</td><td>6</td><td>17</td><td>Serge Aurier</td><td>null</td><td>null</td><td>null</td><td>null</td></tr><tr><td>17_18</td><td>8</td><td>5</td><td>Marcos Alonso</td><td>null</td><td>null</td><td>null</td><td>null</td></tr><tr><td>17_18</td><td>80</td><td>16</td><td>Sam Clucas</td><td>null</td><td>null</td><td>null</td><td>null</td></tr><tr><td>17_18</td><td>90</td><td>4</td><td>Johann Berg Gudmundsson</td><td>null</td><td>null</td><td>null</td><td>null</td></tr><tr><td>17_18</td><td>91</td><td>2</td><td>Lys Mousset</td><td>null</td><td>null</td><td>null</td><td>null</td></tr><tr><td>18_19</td><td>1</td><td>14</td><td>Paul Pogba</td><td>null</td><td>null</td><td>null</td><td>null</td></tr><tr><td>18_19</td><td>11</td><td>8</td><td>Phil Jagielka</td><td>null</td><td>null</td><td>null</td><td>null</td></tr><tr><td>18_19</td><td>13</td><td>11</td><td>Marc Albrighton</td><td>null</td><td>null</td><td>null</td><td>null</td></tr><tr><td>18_19</td><td>14</td><td>12</td><td>Trent Alexander-Arnold</td><td>null</td><td>null</td><td>null</td><td>null</td></tr><tr><td>18_19</td><td>20</td><td>16</td><td>Oriol Romeu Vidal</td><td>null</td><td>null</td><td>null</td><td>null</td></tr><tr><td>18_19</td><td>21</td><td>19</td><td>Samir Nasri</td><td>null</td><td>null</td><td>null</td><td>null</td></tr><tr><td>18_19</td><td>3</td><td>1</td><td>Bernd Leno</td><td>null</td><td>null</td><td>null</td><td>null</td></tr><tr><td>18_19</td><td>31</td><td>7</td><td>Connor Wickham</td><td>null</td><td>null</td><td>null</td><td>null</td></tr><tr><td>18_19</td><td>36</td><td>3</td><td>Beram Kayal</td><td>null</td><td>null</td><td>null</td><td>null</td></tr><tr><td>18_19</td><td>38</td><td>10</td><td>Erik Durm</td><td>null</td><td>null</td><td>null</td><td>null</td></tr><tr><td>18_19</td><td>39</td><td>20</td><td>Max Kilman</td><td>null</td><td>null</td><td>null</td><td>null</td></tr><tr><td>18_19</td><td>4</td><td>15</td><td>Dwight Gayle</td><td>null</td><td>null</td><td>null</td><td>null</td></tr><tr><td>18_19</td><td>43</td><td>13</td><td>Ilkay Gündogan</td><td>null</td><td>null</td><td>null</td><td>null</td></tr><tr><td>18_19</td><td>54</td><td>9</td><td>Alfie Mawson</td><td>null</td><td>null</td><td>null</td><td>null</td></tr><tr><td>18_19</td><td>57</td><td>18</td><td>Troy Deeney</td><td>null</td><td>null</td><td>null</td><td>null</td></tr><tr><td>18_19</td><td>6</td><td>17</td><td>Victor Wanyama</td><td>null</td><td>null</td><td>null</td><td>null</td></tr><tr><td>18_19</td><td>8</td><td>6</td><td>N'Golo Kanté</td><td>null</td><td>null</td><td>null</td><td>null</td></tr><tr><td>18_19</td><td>90</td><td>4</td><td>Ben Mee</td><td>null</td><td>null</td><td>null</td><td>null</td></tr><tr><td>18_19</td><td>91</td><td>2</td><td>David Brooks</td><td>null</td><td>null</td><td>null</td><td>null</td></tr><tr><td>18_19</td><td>97</td><td>5</td><td>Lee Peltier</td><td>null</td><td>null</td><td>null</td><td>null</td></tr><tr><td>19_20</td><td>1</td><td>12</td><td>Matteo Darmian</td><td>null</td><td>null</td><td>null</td><td>null</td></tr><tr><td>19_20</td><td>11</td><td>8</td><td>Dominic Calvert-Lewin</td><td>null</td><td>null</td><td>null</td><td>null</td></tr><tr><td>19_20</td><td>13</td><td>9</td><td>Nampalys Mendy</td><td>null</td><td>null</td><td>null</td><td>null</td></tr><tr><td>19_20</td><td>14</td><td>10</td><td>Naby Keita</td><td>null</td><td>null</td><td>null</td><td>null</td></tr><tr><td>19_20</td><td>20</td><td>16</td><td>Yan Valery</td><td>null</td><td>null</td><td>null</td><td>null</td></tr><tr><td>19_20</td><td>21</td><td>19</td><td>Marko Arnautovic</td><td>null</td><td>null</td><td>null</td><td>null</td></tr><tr><td>19_20</td><td>3</td><td>1</td><td>Matt Macey</td><td>null</td><td>null</td><td>null</td><td>null</td></tr><tr><td>19_20</td><td>31</td><td>7</td><td>Christian Benteke</td><td>null</td><td>null</td><td>null</td><td>null</td></tr><tr><td>19_20</td><td>36</td><td>4</td><td>Martín Montoya</td><td>null</td><td>null</td><td>null</td><td>null</td></tr><tr><td>19_20</td><td>39</td><td>20</td><td>Daniel Castelo Podence</td><td>null</td><td>null</td><td>null</td><td>null</td></tr><tr><td>19_20</td><td>4</td><td>13</td><td>Emil Krafth</td><td>null</td><td>null</td><td>null</td><td>null</td></tr><tr><td>19_20</td><td>43</td><td>11</td><td>Taylor Harwood-Bellis</td><td>null</td><td>null</td><td>null</td><td>null</td></tr><tr><td>19_20</td><td>45</td><td>14</td><td>Daniel Adshead</td><td>null</td><td>null</td><td>null</td><td>null</td></tr><tr><td>19_20</td><td>49</td><td>15</td><td>Phil Jagielka</td><td>null</td><td>null</td><td>null</td><td>null</td></tr><tr><td>19_20</td><td>57</td><td>18</td><td>Ben Foster</td><td>null</td><td>null</td><td>null</td><td>null</td></tr><tr><td>19_20</td><td>6</td><td>17</td><td>Tanguy Ndombele</td><td>null</td><td>null</td><td>null</td><td>null</td></tr><tr><td>19_20</td><td>7</td><td>2</td><td>Lovre Kalinic</td><td>null</td><td>null</td><td>null</td><td>null</td></tr><tr><td>19_20</td><td>8</td><td>6</td><td>Emerson Palmieri dos Santos</td><td>null</td><td>null</td><td>null</td><td>null</td></tr><tr><td>19_20</td><td>90</td><td>5</td><td>Matthew Lowton</td><td>null</td><td>null</td><td>null</td><td>null</td></tr><tr><td>19_20</td><td>91</td><td>3</td><td>Aaron Ramsdale</td><td>null</td><td>null</td><td>null</td><td>null</td></tr><tr><td>20_21</td><td>1</td><td>13</td><td>Scott McTominay</td><td>null</td><td>null</td><td>null</td><td>null</td></tr><tr><td>20_21</td><td>11</td><td>7</td><td>Alex Iwobi</td><td>null</td><td>null</td><td>null</td><td>null</td></tr><tr><td>20_21</td><td>13</td><td>9</td><td>Wesley Fofana</td><td>null</td><td>null</td><td>null</td><td>null</td></tr><tr><td>20_21</td><td>14</td><td>11</td><td>Joel Matip</td><td>null</td><td>null</td><td>null</td><td>null</td></tr><tr><td>20_21</td><td>2</td><td>10</td><td>Ian Carlo Poveda-Ocampo</td><td>null</td><td>null</td><td>null</td><td>null</td></tr><tr><td>20_21</td><td>20</td><td>16</td><td>Stuart Armstrong</td><td>null</td><td>null</td><td>null</td><td>null</td></tr><tr><td>20_21</td><td>21</td><td>19</td><td>Jarrod Bowen</td><td>null</td><td>null</td><td>null</td><td>null</td></tr><tr><td>20_21</td><td>3</td><td>1</td><td>Lucas Torreira</td><td>null</td><td>null</td><td>null</td><td>null</td></tr><tr><td>20_21</td><td>31</td><td>6</td><td>Wilfried Zaha</td><td>null</td><td>null</td><td>null</td><td>null</td></tr><tr><td>20_21</td><td>35</td><td>18</td><td>Branislav Ivanovic</td><td>null</td><td>null</td><td>null</td><td>null</td></tr><tr><td>20_21</td><td>36</td><td>3</td><td>Jensen Weir</td><td>null</td><td>null</td><td>null</td><td>null</td></tr><tr><td>20_21</td><td>39</td><td>20</td><td>Romain Saïss</td><td>null</td><td>null</td><td>null</td><td>null</td></tr><tr><td>20_21</td><td>4</td><td>14</td><td>Karl Darlow</td><td>null</td><td>null</td><td>null</td><td>null</td></tr><tr><td>20_21</td><td>43</td><td>12</td><td>Claudio Bravo</td><td>null</td><td>null</td><td>null</td><td>null</td></tr><tr><td>20_21</td><td>49</td><td>15</td><td>Iliman Ndiaye</td><td>null</td><td>null</td><td>null</td><td>null</td></tr><tr><td>20_21</td><td>54</td><td>8</td><td>Josh Maja</td><td>null</td><td>null</td><td>null</td><td>null</td></tr><tr><td>20_21</td><td>6</td><td>17</td><td>Juan Foyth</td><td>null</td><td>null</td><td>null</td><td>null</td></tr><tr><td>20_21</td><td>7</td><td>2</td><td>Morgan Sanson</td><td>null</td><td>null</td><td>null</td><td>null</td></tr><tr><td>20_21</td><td>8</td><td>5</td><td>Faustino Anjorin</td><td>null</td><td>null</td><td>null</td><td>null</td></tr><tr><td>20_21</td><td>90</td><td>4</td><td>Jack Cork</td><td>null</td><td>null</td><td>null</td><td>null</td></tr><tr><td>21_22</td><td>1</td><td>13</td><td>Álvaro Fernández</td><td>null</td><td>null</td><td>null</td><td>null</td></tr><tr><td>21_22</td><td>11</td><td>8</td><td>Anthony Gordon</td><td>null</td><td>null</td><td>null</td><td>null</td></tr><tr><td>21_22</td><td>13</td><td>9</td><td>Lewis Brunt</td><td>null</td><td>null</td><td>null</td><td>null</td></tr><tr><td>21_22</td><td>14</td><td>11</td><td>Xherdan Shaqiri</td><td>null</td><td>null</td><td>null</td><td>null</td></tr><tr><td>21_22</td><td>2</td><td>10</td><td>Kris Moore</td><td>null</td><td>null</td><td>null</td><td>null</td></tr><tr><td>21_22</td><td>20</td><td>16</td><td>Kyle Walker-Peters</td><td>null</td><td>null</td><td>null</td><td>null</td></tr><tr><td>21_22</td><td>21</td><td>19</td><td>Winston Reid</td><td>null</td><td>null</td><td>null</td><td>null</td></tr><tr><td>21_22</td><td>3</td><td>1</td><td>Mattéo Guendouzi</td><td>null</td><td>null</td><td>null</td><td>null</td></tr><tr><td>21_22</td><td>31</td><td>7</td><td>Conor Gallagher</td><td>null</td><td>null</td><td>null</td><td>null</td></tr><tr><td>21_22</td><td>36</td><td>4</td><td>Leandro Trossard</td><td>null</td><td>null</td><td>null</td><td>null</td></tr><tr><td>21_22</td><td>39</td><td>20</td><td>Fernando Marçal</td><td>null</td><td>null</td><td>null</td><td>null</td></tr><tr><td>21_22</td><td>4</td><td>14</td><td>Jeff Hendrick</td><td>null</td><td>null</td><td>null</td><td>null</td></tr><tr><td>21_22</td><td>43</td><td>12</td><td>Oleksandr Zinchenko</td><td>null</td><td>null</td><td>null</td><td>null</td></tr><tr><td>21_22</td><td>45</td><td>15</td><td>Andrew Omobamidele</td><td>null</td><td>null</td><td>null</td><td>null</td></tr><tr><td>21_22</td><td>57</td><td>18</td><td>Oghenekaro Peter Etebo</td><td>null</td><td>null</td><td>null</td><td>null</td></tr><tr><td>21_22</td><td>6</td><td>17</td><td>Brandon Austin</td><td>null</td><td>null</td><td>null</td><td>null</td></tr><tr><td>21_22</td><td>7</td><td>2</td><td>Morgan Sanson</td><td>null</td><td>null</td><td>null</td><td>null</td></tr><tr><td>21_22</td><td>8</td><td>6</td><td>Ethan Ampadu</td><td>null</td><td>null</td><td>null</td><td>null</td></tr><tr><td>21_22</td><td>90</td><td>5</td><td>Matthew Lowton</td><td>null</td><td>null</td><td>null</td><td>null</td></tr><tr><td>21_22</td><td>94</td><td>3</td><td>Yoane Wissa</td><td>null</td><td>null</td><td>null</td><td>null</td></tr><tr><td>22_23</td><td>1</td><td>14</td><td>Wout Weghorst</td><td>null</td><td>null</td><td>null</td><td>null</td></tr><tr><td>22_23</td><td>11</td><td>8</td><td>James Garner</td><td>null</td><td>null</td><td>null</td><td>null</td></tr><tr><td>22_23</td><td>13</td><td>10</td><td>Jonny Evans</td><td>null</td><td>null</td><td>null</td><td>null</td></tr><tr><td>22_23</td><td>14</td><td>12</td><td>Alex Oxlade-Chamberlain</td><td>null</td><td>null</td><td>null</td><td>null</td></tr><tr><td>22_23</td><td>17</td><td>16</td><td>Jack Colback</td><td>null</td><td>null</td><td>null</td><td>null</td></tr><tr><td>22_23</td><td>2</td><td>11</td><td>Georginio Rutter</td><td>null</td><td>null</td><td>null</td><td>null</td></tr><tr><td>22_23</td><td>20</td><td>17</td><td>Moussa Djenepo</td><td>null</td><td>null</td><td>null</td><td>null</td></tr><tr><td>22_23</td><td>21</td><td>19</td><td>Maxwel Cornet</td><td>null</td><td>null</td><td>null</td><td>null</td></tr><tr><td>22_23</td><td>3</td><td>1</td><td>Eddie Nketiah</td><td>null</td><td>null</td><td>null</td><td>null</td></tr><tr><td>22_23</td><td>31</td><td>7</td><td>Owen Goodman</td><td>null</td><td>null</td><td>null</td><td>null</td></tr><tr><td>22_23</td><td>36</td><td>5</td><td>Kjell Scherpen</td><td>null</td><td>null</td><td>null</td><td>null</td></tr><tr><td>22_23</td><td>39</td><td>20</td><td>Matheus Luiz Nunes</td><td>null</td><td>null</td><td>null</td><td>null</td></tr><tr><td>22_23</td><td>4</td><td>15</td><td>Harrison Ashby</td><td>null</td><td>null</td><td>null</td><td>null</td></tr><tr><td>22_23</td><td>43</td><td>13</td><td>Alex Robertson</td><td>null</td><td>null</td><td>null</td><td>null</td></tr><tr><td>22_23</td><td>54</td><td>9</td><td>Antonee Robinson</td><td>null</td><td>null</td><td>null</td><td>null</td></tr><tr><td>22_23</td><td>6</td><td>18</td><td>Emerson Leite de Souza Junior</td><td>null</td><td>null</td><td>null</td><td>null</td></tr><tr><td>22_23</td><td>7</td><td>2</td><td>Keinan Davis</td><td>null</td><td>null</td><td>null</td><td>null</td></tr><tr><td>22_23</td><td>8</td><td>6</td><td>Malang Sarr</td><td>null</td><td>null</td><td>null</td><td>null</td></tr><tr><td>22_23</td><td>91</td><td>3</td><td>Norberto Murara Neto</td><td>null</td><td>null</td><td>null</td><td>null</td></tr><tr><td>22_23</td><td>94</td><td>4</td><td>Fin Stevens</td><td>null</td><td>null</td><td>null</td><td>null</td></tr><tr><td>23_24</td><td>1</td><td>14</td><td>Álvaro Fernández Carreras</td><td>null</td><td>null</td><td>null</td><td>null</td></tr><tr><td>23_24</td><td>102</td><td>12</td><td>Jordan Clark</td><td>null</td><td>null</td><td>null</td><td>null</td></tr><tr><td>23_24</td><td>11</td><td>9</td><td>Ashley Young</td><td>null</td><td>null</td><td>null</td><td>null</td></tr><tr><td>23_24</td><td>14</td><td>11</td><td>Virgil van Dijk</td><td>null</td><td>null</td><td>null</td><td>null</td></tr><tr><td>23_24</td><td>17</td><td>16</td><td>Harry Toffolo</td><td>null</td><td>null</td><td>null</td><td>null</td></tr><tr><td>23_24</td><td>21</td><td>19</td><td>Divin Mubama</td><td>null</td><td>null</td><td>null</td><td>null</td></tr><tr><td>23_24</td><td>3</td><td>1</td><td>David Raya Martin</td><td>null</td><td>null</td><td>null</td><td>null</td></tr><tr><td>23_24</td><td>31</td><td>8</td><td>Michael Olise</td><td>null</td><td>null</td><td>null</td><td>null</td></tr><tr><td>23_24</td><td>36</td><td>5</td><td>Jan Paul van Hecke</td><td>null</td><td>null</td><td>null</td><td>null</td></tr><tr><td>23_24</td><td>39</td><td>20</td><td>Sasa Kalajdzic</td><td>null</td><td>null</td><td>null</td><td>null</td></tr><tr><td>23_24</td><td>4</td><td>15</td><td>Ryan Fraser</td><td>null</td><td>null</td><td>null</td><td>null</td></tr><tr><td>23_24</td><td>43</td><td>13</td><td>Micah Hamilton</td><td>null</td><td>null</td><td>null</td><td>null</td></tr><tr><td>23_24</td><td>49</td><td>17</td><td>William Osula</td><td>null</td><td>null</td><td>null</td><td>null</td></tr><tr><td>23_24</td><td>54</td><td>10</td><td>Kevin Mbabu</td><td>null</td><td>null</td><td>null</td><td>null</td></tr><tr><td>23_24</td><td>6</td><td>18</td><td>Cristian Romero</td><td>null</td><td>null</td><td>null</td><td>null</td></tr><tr><td>23_24</td><td>7</td><td>2</td><td>Filip Marschall</td><td>null</td><td>null</td><td>null</td><td>null</td></tr><tr><td>23_24</td><td>8</td><td>7</td><td>Deivid Washington de Souza Eugênio</td><td>null</td><td>null</td><td>null</td><td>null</td></tr><tr><td>23_24</td><td>90</td><td>6</td><td>Michael Obafemi</td><td>null</td><td>null</td><td>null</td><td>null</td></tr><tr><td>23_24</td><td>91</td><td>3</td><td>Ben Greenwood</td><td>null</td><td>null</td><td>null</td><td>null</td></tr><tr><td>23_24</td><td>94</td><td>4</td><td>Ellery Balcombe</td><td>null</td><td>null</td><td>null</td><td>null</td></tr><tr><td>24_25</td><td>1</td><td>14</td><td>Jonny Evans</td><td>null</td><td>null</td><td>null</td><td>null</td></tr><tr><td>24_25</td><td>11</td><td>8</td><td>Martin Sherif</td><td>null</td><td>null</td><td>null</td><td>null</td></tr><tr><td>24_25</td><td>13</td><td>11</td><td>Jakub Stolarczyk</td><td>null</td><td>null</td><td>null</td><td>null</td></tr><tr><td>24_25</td><td>14</td><td>12</td><td>Luis Díaz</td><td>null</td><td>null</td><td>null</td><td>null</td></tr><tr><td>24_25</td><td>17</td><td>16</td><td>Josh Bowler</td><td>null</td><td>null</td><td>null</td><td>null</td></tr><tr><td>24_25</td><td>20</td><td>17</td><td>Taylor Harwood-Bellis</td><td>null</td><td>null</td><td>null</td><td>null</td></tr><tr><td>24_25</td><td>21</td><td>19</td><td>Ezra Mayers</td><td>null</td><td>null</td><td>null</td><td>null</td></tr><tr><td>24_25</td><td>3</td><td>1</td><td>Declan Rice</td><td>null</td><td>null</td><td>null</td><td>null</td></tr><tr><td>24_25</td><td>31</td><td>7</td><td>Nathaniel Clyne</td><td>null</td><td>null</td><td>null</td><td>null</td></tr><tr><td>24_25</td><td>36</td><td>5</td><td>Imari Samuels</td><td>null</td><td>null</td><td>null</td><td>null</td></tr><tr><td>24_25</td><td>39</td><td>20</td><td>Marshall Munetsi</td><td>null</td><td>null</td><td>null</td><td>null</td></tr><tr><td>24_25</td><td>4</td><td>15</td><td>Lewis Hall</td><td>null</td><td>null</td><td>null</td><td>null</td></tr><tr><td>24_25</td><td>40</td><td>10</td><td>Conor Chaplin</td><td>null</td><td>null</td><td>null</td><td>null</td></tr><tr><td>24_25</td><td>43</td><td>13</td><td>João Cavaco Cancelo</td><td>null</td><td>null</td><td>null</td><td>null</td></tr><tr><td>24_25</td><td>54</td><td>9</td><td>Rodrigo Muniz Carvalho</td><td>null</td><td>null</td><td>null</td><td>null</td></tr><tr><td>24_25</td><td>6</td><td>18</td><td>Guglielmo Vicario</td><td>null</td><td>null</td><td>null</td><td>null</td></tr><tr><td>24_25</td><td>7</td><td>2</td><td>Viljami Sinisalo</td><td>null</td><td>null</td><td>null</td><td>null</td></tr><tr><td>24_25</td><td>8</td><td>6</td><td>Renato Palma Veiga</td><td>null</td><td>null</td><td>null</td><td>null</td></tr><tr><td>24_25</td><td>91</td><td>3</td><td>Archie Harris</td><td>null</td><td>null</td><td>null</td><td>null</td></tr><tr><td>24_25</td><td>94</td><td>4</td><td>Aaron Hickey</td><td>null</td><td>null</td><td>null</td><td>null</td></tr><tr><td>25_26</td><td>3</td><td>1</td><td>null</td><td>Arsenal</td><td>ARS</td><td>null</td><td>null</td></tr><tr><td>25_26</td><td>7</td><td>2</td><td>null</td><td>Aston Villa</td><td>AVL</td><td>null</td><td>null</td></tr><tr><td>25_26</td><td>90</td><td>3</td><td>null</td><td>Burnley</td><td>BUR</td><td>null</td><td>null</td></tr><tr><td>25_26</td><td>91</td><td>4</td><td>null</td><td>Bournemouth</td><td>BOU</td><td>null</td><td>null</td></tr><tr><td>25_26</td><td>94</td><td>5</td><td>null</td><td>Brentford</td><td>BRE</td><td>null</td><td>null</td></tr><tr><td>25_26</td><td>36</td><td>6</td><td>null</td><td>Brighton</td><td>BHA</td><td>null</td><td>null</td></tr><tr><td>25_26</td><td>8</td><td>7</td><td>null</td><td>Chelsea</td><td>CHE</td><td>null</td><td>null</td></tr><tr><td>25_26</td><td>31</td><td>8</td><td>null</td><td>Crystal Palace</td><td>CRY</td><td>null</td><td>null</td></tr><tr><td>25_26</td><td>11</td><td>9</td><td>null</td><td>Everton</td><td>EVE</td><td>null</td><td>null</td></tr><tr><td>25_26</td><td>54</td><td>10</td><td>null</td><td>Fulham</td><td>FUL</td><td>null</td><td>null</td></tr><tr><td>25_26</td><td>2</td><td>11</td><td>null</td><td>Leeds</td><td>LEE</td><td>null</td><td>null</td></tr><tr><td>25_26</td><td>14</td><td>12</td><td>null</td><td>Liverpool</td><td>LIV</td><td>null</td><td>null</td></tr><tr><td>25_26</td><td>43</td><td>13</td><td>null</td><td>Man City</td><td>MCI</td><td>null</td><td>null</td></tr><tr><td>25_26</td><td>1</td><td>14</td><td>null</td><td>Man Utd</td><td>MUN</td><td>null</td><td>null</td></tr><tr><td>25_26</td><td>4</td><td>15</td><td>null</td><td>Newcastle</td><td>NEW</td><td>null</td><td>null</td></tr><tr><td>25_26</td><td>17</td><td>16</td><td>null</td><td>Nott'm Forest</td><td>NFO</td><td>null</td><td>null</td></tr><tr><td>25_26</td><td>56</td><td>17</td><td>null</td><td>Sunderland</td><td>SUN</td><td>null</td><td>null</td></tr><tr><td>25_26</td><td>6</td><td>18</td><td>null</td><td>Spurs</td><td>TOT</td><td>null</td><td>null</td></tr><tr><td>25_26</td><td>21</td><td>19</td><td>null</td><td>West Ham</td><td>WHU</td><td>null</td><td>null</td></tr><tr><td>25_26</td><td>39</td><td>20</td><td>null</td><td>Wolves</td><td>WOL</td><td>null</td><td>null</td></tr></tbody></table></div>"
      ]
     },
     "metadata": {
      "application/vnd.databricks.v1+output": {
       "addedWidgets": {},
       "aggData": [],
       "aggError": "",
       "aggOverflow": false,
       "aggSchema": [],
       "aggSeriesLimitReached": false,
       "aggType": "",
       "arguments": {},
       "columnCustomDisplayInfos": {},
       "data": [
        [
         "16_17",
         1,
         11,
         "Anthony Martial",
         null,
         null,
         null,
         null
        ],
        [
         "16_17",
         11,
         6,
         "Joel Robles",
         null,
         null,
         null,
         null
        ],
        [
         "16_17",
         110,
         14,
         "Saido Berahino",
         null,
         null,
         null,
         null
        ],
        [
         "16_17",
         13,
         8,
         "Nampalys Mendy",
         null,
         null,
         null,
         null
        ],
        [
         "16_17",
         14,
         9,
         "Dejan Lovren",
         null,
         null,
         null,
         null
        ],
        [
         "16_17",
         20,
         13,
         "Florin Gardos",
         null,
         null,
         null,
         null
        ],
        [
         "16_17",
         21,
         20,
         "Aaron Cresswell",
         null,
         null,
         null,
         null
        ],
        [
         "16_17",
         25,
         12,
         "Adam Clayton",
         null,
         null,
         null,
         null
        ],
        [
         "16_17",
         3,
         1,
         "Héctor Bellerín",
         null,
         null,
         null,
         null
        ],
        [
         "16_17",
         31,
         5,
         "Ezekiel Fryers",
         null,
         null,
         null,
         null
        ],
        [
         "16_17",
         35,
         19,
         "Rickie Lambert",
         null,
         null,
         null,
         null
        ],
        [
         "16_17",
         43,
         10,
         "John Stones",
         null,
         null,
         null,
         null
        ],
        [
         "16_17",
         56,
         15,
         "Michael Simões Domingues",
         null,
         null,
         null,
         null
        ],
        [
         "16_17",
         57,
         18,
         "Costel Pantilimon",
         null,
         null,
         null,
         null
        ],
        [
         "16_17",
         6,
         17,
         "Vincent Janssen",
         null,
         null,
         null,
         null
        ],
        [
         "16_17",
         8,
         4,
         "Nathaniel Chalobah",
         null,
         null,
         null,
         null
        ],
        [
         "16_17",
         80,
         16,
         "Jefferson Montero",
         null,
         null,
         null,
         null
        ],
        [
         "16_17",
         88,
         7,
         "Greg Olley",
         null,
         null,
         null,
         null
        ],
        [
         "16_17",
         90,
         3,
         "George Boyd",
         null,
         null,
         null,
         null
        ],
        [
         "16_17",
         91,
         2,
         "Harry Arter",
         null,
         null,
         null,
         null
        ],
        [
         "17_18",
         1,
         12,
         "Juan Mata",
         null,
         null,
         null,
         null
        ],
        [
         "17_18",
         11,
         7,
         "Ashley Williams",
         null,
         null,
         null,
         null
        ],
        [
         "17_18",
         110,
         15,
         "Charlie Adam",
         null,
         null,
         null,
         null
        ],
        [
         "17_18",
         13,
         9,
         "Aleksandar Dragovic",
         null,
         null,
         null,
         null
        ],
        [
         "17_18",
         14,
         10,
         "Alex Oxlade-Chamberlain",
         null,
         null,
         null,
         null
        ],
        [
         "17_18",
         20,
         14,
         "Jack Stephens",
         null,
         null,
         null,
         null
        ],
        [
         "17_18",
         21,
         20,
         "Angelo Ogbonna",
         null,
         null,
         null,
         null
        ],
        [
         "17_18",
         3,
         1,
         "Mathieu Debuchy",
         null,
         null,
         null,
         null
        ],
        [
         "17_18",
         31,
         6,
         "Nya Kirby",
         null,
         null,
         null,
         null
        ],
        [
         "17_18",
         35,
         19,
         "Salomón Rondón",
         null,
         null,
         null,
         null
        ],
        [
         "17_18",
         36,
         3,
         "Connor Goldson",
         null,
         null,
         null,
         null
        ],
        [
         "17_18",
         38,
         8,
         "Jonas Lössl",
         null,
         null,
         null,
         null
        ],
        [
         "17_18",
         4,
         13,
         "Paul Dummett",
         null,
         null,
         null,
         null
        ],
        [
         "17_18",
         43,
         11,
         "Manuel Agudo Durán",
         null,
         null,
         null,
         null
        ],
        [
         "17_18",
         57,
         18,
         "Andre Gray",
         null,
         null,
         null,
         null
        ],
        [
         "17_18",
         6,
         17,
         "Serge Aurier",
         null,
         null,
         null,
         null
        ],
        [
         "17_18",
         8,
         5,
         "Marcos Alonso",
         null,
         null,
         null,
         null
        ],
        [
         "17_18",
         80,
         16,
         "Sam Clucas",
         null,
         null,
         null,
         null
        ],
        [
         "17_18",
         90,
         4,
         "Johann Berg Gudmundsson",
         null,
         null,
         null,
         null
        ],
        [
         "17_18",
         91,
         2,
         "Lys Mousset",
         null,
         null,
         null,
         null
        ],
        [
         "18_19",
         1,
         14,
         "Paul Pogba",
         null,
         null,
         null,
         null
        ],
        [
         "18_19",
         11,
         8,
         "Phil Jagielka",
         null,
         null,
         null,
         null
        ],
        [
         "18_19",
         13,
         11,
         "Marc Albrighton",
         null,
         null,
         null,
         null
        ],
        [
         "18_19",
         14,
         12,
         "Trent Alexander-Arnold",
         null,
         null,
         null,
         null
        ],
        [
         "18_19",
         20,
         16,
         "Oriol Romeu Vidal",
         null,
         null,
         null,
         null
        ],
        [
         "18_19",
         21,
         19,
         "Samir Nasri",
         null,
         null,
         null,
         null
        ],
        [
         "18_19",
         3,
         1,
         "Bernd Leno",
         null,
         null,
         null,
         null
        ],
        [
         "18_19",
         31,
         7,
         "Connor Wickham",
         null,
         null,
         null,
         null
        ],
        [
         "18_19",
         36,
         3,
         "Beram Kayal",
         null,
         null,
         null,
         null
        ],
        [
         "18_19",
         38,
         10,
         "Erik Durm",
         null,
         null,
         null,
         null
        ],
        [
         "18_19",
         39,
         20,
         "Max Kilman",
         null,
         null,
         null,
         null
        ],
        [
         "18_19",
         4,
         15,
         "Dwight Gayle",
         null,
         null,
         null,
         null
        ],
        [
         "18_19",
         43,
         13,
         "Ilkay Gündogan",
         null,
         null,
         null,
         null
        ],
        [
         "18_19",
         54,
         9,
         "Alfie Mawson",
         null,
         null,
         null,
         null
        ],
        [
         "18_19",
         57,
         18,
         "Troy Deeney",
         null,
         null,
         null,
         null
        ],
        [
         "18_19",
         6,
         17,
         "Victor Wanyama",
         null,
         null,
         null,
         null
        ],
        [
         "18_19",
         8,
         6,
         "N'Golo Kanté",
         null,
         null,
         null,
         null
        ],
        [
         "18_19",
         90,
         4,
         "Ben Mee",
         null,
         null,
         null,
         null
        ],
        [
         "18_19",
         91,
         2,
         "David Brooks",
         null,
         null,
         null,
         null
        ],
        [
         "18_19",
         97,
         5,
         "Lee Peltier",
         null,
         null,
         null,
         null
        ],
        [
         "19_20",
         1,
         12,
         "Matteo Darmian",
         null,
         null,
         null,
         null
        ],
        [
         "19_20",
         11,
         8,
         "Dominic Calvert-Lewin",
         null,
         null,
         null,
         null
        ],
        [
         "19_20",
         13,
         9,
         "Nampalys Mendy",
         null,
         null,
         null,
         null
        ],
        [
         "19_20",
         14,
         10,
         "Naby Keita",
         null,
         null,
         null,
         null
        ],
        [
         "19_20",
         20,
         16,
         "Yan Valery",
         null,
         null,
         null,
         null
        ],
        [
         "19_20",
         21,
         19,
         "Marko Arnautovic",
         null,
         null,
         null,
         null
        ],
        [
         "19_20",
         3,
         1,
         "Matt Macey",
         null,
         null,
         null,
         null
        ],
        [
         "19_20",
         31,
         7,
         "Christian Benteke",
         null,
         null,
         null,
         null
        ],
        [
         "19_20",
         36,
         4,
         "Martín Montoya",
         null,
         null,
         null,
         null
        ],
        [
         "19_20",
         39,
         20,
         "Daniel Castelo Podence",
         null,
         null,
         null,
         null
        ],
        [
         "19_20",
         4,
         13,
         "Emil Krafth",
         null,
         null,
         null,
         null
        ],
        [
         "19_20",
         43,
         11,
         "Taylor Harwood-Bellis",
         null,
         null,
         null,
         null
        ],
        [
         "19_20",
         45,
         14,
         "Daniel Adshead",
         null,
         null,
         null,
         null
        ],
        [
         "19_20",
         49,
         15,
         "Phil Jagielka",
         null,
         null,
         null,
         null
        ],
        [
         "19_20",
         57,
         18,
         "Ben Foster",
         null,
         null,
         null,
         null
        ],
        [
         "19_20",
         6,
         17,
         "Tanguy Ndombele",
         null,
         null,
         null,
         null
        ],
        [
         "19_20",
         7,
         2,
         "Lovre Kalinic",
         null,
         null,
         null,
         null
        ],
        [
         "19_20",
         8,
         6,
         "Emerson Palmieri dos Santos",
         null,
         null,
         null,
         null
        ],
        [
         "19_20",
         90,
         5,
         "Matthew Lowton",
         null,
         null,
         null,
         null
        ],
        [
         "19_20",
         91,
         3,
         "Aaron Ramsdale",
         null,
         null,
         null,
         null
        ],
        [
         "20_21",
         1,
         13,
         "Scott McTominay",
         null,
         null,
         null,
         null
        ],
        [
         "20_21",
         11,
         7,
         "Alex Iwobi",
         null,
         null,
         null,
         null
        ],
        [
         "20_21",
         13,
         9,
         "Wesley Fofana",
         null,
         null,
         null,
         null
        ],
        [
         "20_21",
         14,
         11,
         "Joel Matip",
         null,
         null,
         null,
         null
        ],
        [
         "20_21",
         2,
         10,
         "Ian Carlo Poveda-Ocampo",
         null,
         null,
         null,
         null
        ],
        [
         "20_21",
         20,
         16,
         "Stuart Armstrong",
         null,
         null,
         null,
         null
        ],
        [
         "20_21",
         21,
         19,
         "Jarrod Bowen",
         null,
         null,
         null,
         null
        ],
        [
         "20_21",
         3,
         1,
         "Lucas Torreira",
         null,
         null,
         null,
         null
        ],
        [
         "20_21",
         31,
         6,
         "Wilfried Zaha",
         null,
         null,
         null,
         null
        ],
        [
         "20_21",
         35,
         18,
         "Branislav Ivanovic",
         null,
         null,
         null,
         null
        ],
        [
         "20_21",
         36,
         3,
         "Jensen Weir",
         null,
         null,
         null,
         null
        ],
        [
         "20_21",
         39,
         20,
         "Romain Saïss",
         null,
         null,
         null,
         null
        ],
        [
         "20_21",
         4,
         14,
         "Karl Darlow",
         null,
         null,
         null,
         null
        ],
        [
         "20_21",
         43,
         12,
         "Claudio Bravo",
         null,
         null,
         null,
         null
        ],
        [
         "20_21",
         49,
         15,
         "Iliman Ndiaye",
         null,
         null,
         null,
         null
        ],
        [
         "20_21",
         54,
         8,
         "Josh Maja",
         null,
         null,
         null,
         null
        ],
        [
         "20_21",
         6,
         17,
         "Juan Foyth",
         null,
         null,
         null,
         null
        ],
        [
         "20_21",
         7,
         2,
         "Morgan Sanson",
         null,
         null,
         null,
         null
        ],
        [
         "20_21",
         8,
         5,
         "Faustino Anjorin",
         null,
         null,
         null,
         null
        ],
        [
         "20_21",
         90,
         4,
         "Jack Cork",
         null,
         null,
         null,
         null
        ],
        [
         "21_22",
         1,
         13,
         "Álvaro Fernández",
         null,
         null,
         null,
         null
        ],
        [
         "21_22",
         11,
         8,
         "Anthony Gordon",
         null,
         null,
         null,
         null
        ],
        [
         "21_22",
         13,
         9,
         "Lewis Brunt",
         null,
         null,
         null,
         null
        ],
        [
         "21_22",
         14,
         11,
         "Xherdan Shaqiri",
         null,
         null,
         null,
         null
        ],
        [
         "21_22",
         2,
         10,
         "Kris Moore",
         null,
         null,
         null,
         null
        ],
        [
         "21_22",
         20,
         16,
         "Kyle Walker-Peters",
         null,
         null,
         null,
         null
        ],
        [
         "21_22",
         21,
         19,
         "Winston Reid",
         null,
         null,
         null,
         null
        ],
        [
         "21_22",
         3,
         1,
         "Mattéo Guendouzi",
         null,
         null,
         null,
         null
        ],
        [
         "21_22",
         31,
         7,
         "Conor Gallagher",
         null,
         null,
         null,
         null
        ],
        [
         "21_22",
         36,
         4,
         "Leandro Trossard",
         null,
         null,
         null,
         null
        ],
        [
         "21_22",
         39,
         20,
         "Fernando Marçal",
         null,
         null,
         null,
         null
        ],
        [
         "21_22",
         4,
         14,
         "Jeff Hendrick",
         null,
         null,
         null,
         null
        ],
        [
         "21_22",
         43,
         12,
         "Oleksandr Zinchenko",
         null,
         null,
         null,
         null
        ],
        [
         "21_22",
         45,
         15,
         "Andrew Omobamidele",
         null,
         null,
         null,
         null
        ],
        [
         "21_22",
         57,
         18,
         "Oghenekaro Peter Etebo",
         null,
         null,
         null,
         null
        ],
        [
         "21_22",
         6,
         17,
         "Brandon Austin",
         null,
         null,
         null,
         null
        ],
        [
         "21_22",
         7,
         2,
         "Morgan Sanson",
         null,
         null,
         null,
         null
        ],
        [
         "21_22",
         8,
         6,
         "Ethan Ampadu",
         null,
         null,
         null,
         null
        ],
        [
         "21_22",
         90,
         5,
         "Matthew Lowton",
         null,
         null,
         null,
         null
        ],
        [
         "21_22",
         94,
         3,
         "Yoane Wissa",
         null,
         null,
         null,
         null
        ],
        [
         "22_23",
         1,
         14,
         "Wout Weghorst",
         null,
         null,
         null,
         null
        ],
        [
         "22_23",
         11,
         8,
         "James Garner",
         null,
         null,
         null,
         null
        ],
        [
         "22_23",
         13,
         10,
         "Jonny Evans",
         null,
         null,
         null,
         null
        ],
        [
         "22_23",
         14,
         12,
         "Alex Oxlade-Chamberlain",
         null,
         null,
         null,
         null
        ],
        [
         "22_23",
         17,
         16,
         "Jack Colback",
         null,
         null,
         null,
         null
        ],
        [
         "22_23",
         2,
         11,
         "Georginio Rutter",
         null,
         null,
         null,
         null
        ],
        [
         "22_23",
         20,
         17,
         "Moussa Djenepo",
         null,
         null,
         null,
         null
        ],
        [
         "22_23",
         21,
         19,
         "Maxwel Cornet",
         null,
         null,
         null,
         null
        ],
        [
         "22_23",
         3,
         1,
         "Eddie Nketiah",
         null,
         null,
         null,
         null
        ],
        [
         "22_23",
         31,
         7,
         "Owen Goodman",
         null,
         null,
         null,
         null
        ],
        [
         "22_23",
         36,
         5,
         "Kjell Scherpen",
         null,
         null,
         null,
         null
        ],
        [
         "22_23",
         39,
         20,
         "Matheus Luiz Nunes",
         null,
         null,
         null,
         null
        ],
        [
         "22_23",
         4,
         15,
         "Harrison Ashby",
         null,
         null,
         null,
         null
        ],
        [
         "22_23",
         43,
         13,
         "Alex Robertson",
         null,
         null,
         null,
         null
        ],
        [
         "22_23",
         54,
         9,
         "Antonee Robinson",
         null,
         null,
         null,
         null
        ],
        [
         "22_23",
         6,
         18,
         "Emerson Leite de Souza Junior",
         null,
         null,
         null,
         null
        ],
        [
         "22_23",
         7,
         2,
         "Keinan Davis",
         null,
         null,
         null,
         null
        ],
        [
         "22_23",
         8,
         6,
         "Malang Sarr",
         null,
         null,
         null,
         null
        ],
        [
         "22_23",
         91,
         3,
         "Norberto Murara Neto",
         null,
         null,
         null,
         null
        ],
        [
         "22_23",
         94,
         4,
         "Fin Stevens",
         null,
         null,
         null,
         null
        ],
        [
         "23_24",
         1,
         14,
         "Álvaro Fernández Carreras",
         null,
         null,
         null,
         null
        ],
        [
         "23_24",
         102,
         12,
         "Jordan Clark",
         null,
         null,
         null,
         null
        ],
        [
         "23_24",
         11,
         9,
         "Ashley Young",
         null,
         null,
         null,
         null
        ],
        [
         "23_24",
         14,
         11,
         "Virgil van Dijk",
         null,
         null,
         null,
         null
        ],
        [
         "23_24",
         17,
         16,
         "Harry Toffolo",
         null,
         null,
         null,
         null
        ],
        [
         "23_24",
         21,
         19,
         "Divin Mubama",
         null,
         null,
         null,
         null
        ],
        [
         "23_24",
         3,
         1,
         "David Raya Martin",
         null,
         null,
         null,
         null
        ],
        [
         "23_24",
         31,
         8,
         "Michael Olise",
         null,
         null,
         null,
         null
        ],
        [
         "23_24",
         36,
         5,
         "Jan Paul van Hecke",
         null,
         null,
         null,
         null
        ],
        [
         "23_24",
         39,
         20,
         "Sasa Kalajdzic",
         null,
         null,
         null,
         null
        ],
        [
         "23_24",
         4,
         15,
         "Ryan Fraser",
         null,
         null,
         null,
         null
        ],
        [
         "23_24",
         43,
         13,
         "Micah Hamilton",
         null,
         null,
         null,
         null
        ],
        [
         "23_24",
         49,
         17,
         "William Osula",
         null,
         null,
         null,
         null
        ],
        [
         "23_24",
         54,
         10,
         "Kevin Mbabu",
         null,
         null,
         null,
         null
        ],
        [
         "23_24",
         6,
         18,
         "Cristian Romero",
         null,
         null,
         null,
         null
        ],
        [
         "23_24",
         7,
         2,
         "Filip Marschall",
         null,
         null,
         null,
         null
        ],
        [
         "23_24",
         8,
         7,
         "Deivid Washington de Souza Eugênio",
         null,
         null,
         null,
         null
        ],
        [
         "23_24",
         90,
         6,
         "Michael Obafemi",
         null,
         null,
         null,
         null
        ],
        [
         "23_24",
         91,
         3,
         "Ben Greenwood",
         null,
         null,
         null,
         null
        ],
        [
         "23_24",
         94,
         4,
         "Ellery Balcombe",
         null,
         null,
         null,
         null
        ],
        [
         "24_25",
         1,
         14,
         "Jonny Evans",
         null,
         null,
         null,
         null
        ],
        [
         "24_25",
         11,
         8,
         "Martin Sherif",
         null,
         null,
         null,
         null
        ],
        [
         "24_25",
         13,
         11,
         "Jakub Stolarczyk",
         null,
         null,
         null,
         null
        ],
        [
         "24_25",
         14,
         12,
         "Luis Díaz",
         null,
         null,
         null,
         null
        ],
        [
         "24_25",
         17,
         16,
         "Josh Bowler",
         null,
         null,
         null,
         null
        ],
        [
         "24_25",
         20,
         17,
         "Taylor Harwood-Bellis",
         null,
         null,
         null,
         null
        ],
        [
         "24_25",
         21,
         19,
         "Ezra Mayers",
         null,
         null,
         null,
         null
        ],
        [
         "24_25",
         3,
         1,
         "Declan Rice",
         null,
         null,
         null,
         null
        ],
        [
         "24_25",
         31,
         7,
         "Nathaniel Clyne",
         null,
         null,
         null,
         null
        ],
        [
         "24_25",
         36,
         5,
         "Imari Samuels",
         null,
         null,
         null,
         null
        ],
        [
         "24_25",
         39,
         20,
         "Marshall Munetsi",
         null,
         null,
         null,
         null
        ],
        [
         "24_25",
         4,
         15,
         "Lewis Hall",
         null,
         null,
         null,
         null
        ],
        [
         "24_25",
         40,
         10,
         "Conor Chaplin",
         null,
         null,
         null,
         null
        ],
        [
         "24_25",
         43,
         13,
         "João Cavaco Cancelo",
         null,
         null,
         null,
         null
        ],
        [
         "24_25",
         54,
         9,
         "Rodrigo Muniz Carvalho",
         null,
         null,
         null,
         null
        ],
        [
         "24_25",
         6,
         18,
         "Guglielmo Vicario",
         null,
         null,
         null,
         null
        ],
        [
         "24_25",
         7,
         2,
         "Viljami Sinisalo",
         null,
         null,
         null,
         null
        ],
        [
         "24_25",
         8,
         6,
         "Renato Palma Veiga",
         null,
         null,
         null,
         null
        ],
        [
         "24_25",
         91,
         3,
         "Archie Harris",
         null,
         null,
         null,
         null
        ],
        [
         "24_25",
         94,
         4,
         "Aaron Hickey",
         null,
         null,
         null,
         null
        ],
        [
         "25_26",
         3,
         1,
         null,
         "Arsenal",
         "ARS",
         null,
         null
        ],
        [
         "25_26",
         7,
         2,
         null,
         "Aston Villa",
         "AVL",
         null,
         null
        ],
        [
         "25_26",
         90,
         3,
         null,
         "Burnley",
         "BUR",
         null,
         null
        ],
        [
         "25_26",
         91,
         4,
         null,
         "Bournemouth",
         "BOU",
         null,
         null
        ],
        [
         "25_26",
         94,
         5,
         null,
         "Brentford",
         "BRE",
         null,
         null
        ],
        [
         "25_26",
         36,
         6,
         null,
         "Brighton",
         "BHA",
         null,
         null
        ],
        [
         "25_26",
         8,
         7,
         null,
         "Chelsea",
         "CHE",
         null,
         null
        ],
        [
         "25_26",
         31,
         8,
         null,
         "Crystal Palace",
         "CRY",
         null,
         null
        ],
        [
         "25_26",
         11,
         9,
         null,
         "Everton",
         "EVE",
         null,
         null
        ],
        [
         "25_26",
         54,
         10,
         null,
         "Fulham",
         "FUL",
         null,
         null
        ],
        [
         "25_26",
         2,
         11,
         null,
         "Leeds",
         "LEE",
         null,
         null
        ],
        [
         "25_26",
         14,
         12,
         null,
         "Liverpool",
         "LIV",
         null,
         null
        ],
        [
         "25_26",
         43,
         13,
         null,
         "Man City",
         "MCI",
         null,
         null
        ],
        [
         "25_26",
         1,
         14,
         null,
         "Man Utd",
         "MUN",
         null,
         null
        ],
        [
         "25_26",
         4,
         15,
         null,
         "Newcastle",
         "NEW",
         null,
         null
        ],
        [
         "25_26",
         17,
         16,
         null,
         "Nott'm Forest",
         "NFO",
         null,
         null
        ],
        [
         "25_26",
         56,
         17,
         null,
         "Sunderland",
         "SUN",
         null,
         null
        ],
        [
         "25_26",
         6,
         18,
         null,
         "Spurs",
         "TOT",
         null,
         null
        ],
        [
         "25_26",
         21,
         19,
         null,
         "West Ham",
         "WHU",
         null,
         null
        ],
        [
         "25_26",
         39,
         20,
         null,
         "Wolves",
         "WOL",
         null,
         null
        ]
       ],
       "datasetInfos": [],
       "dbfsResultPath": null,
       "isJsonSchema": true,
       "metadata": {},
       "overflow": false,
       "plotOptions": {
        "customPlotOptions": {},
        "displayType": "table",
        "pivotAggregation": null,
        "pivotColumns": null,
        "xColumns": null,
        "yColumns": null
       },
       "removedWidgets": [],
       "schema": [
        {
         "metadata": "{}",
         "name": "season",
         "type": "\"string\""
        },
        {
         "metadata": "{}",
         "name": "team_code",
         "type": "\"long\""
        },
        {
         "metadata": "{}",
         "name": "team_id",
         "type": "\"long\""
        },
        {
         "metadata": "{}",
         "name": "full_name",
         "type": "\"string\""
        },
        {
         "metadata": "{}",
         "name": "team_name",
         "type": "\"string\""
        },
        {
         "metadata": "{}",
         "name": "team_name_short",
         "type": "\"string\""
        },
        {
         "metadata": "{}",
         "name": "is_promoted",
         "type": "\"boolean\""
        },
        {
         "metadata": "{}",
         "name": "is_relegated",
         "type": "\"boolean\""
        }
       ],
       "type": "table"
      }
     },
     "output_type": "display_data"
    }
   ],
   "source": [
    "bronze_schema = \"fpl_bronze_dev\"\n",
    "seasons = ['16_17', '17_18', '18_19', '19_20', '20_21', '21_22', '22_23', '23_24', '24_25']\n",
    "\n",
    "#Load players_raw from all seasons\n",
    "players_dfs = []\n",
    "for season in seasons:\n",
    "    df = spark.table(f\"{bronze_schema}.players_raw_{season}\"\n",
    "                ).select(\n",
    "                  F.lit(season).alias(\"season\"),\n",
    "                  F.col(\"team_code\").alias(\"team_code\"),\n",
    "                  F.col(\"team\").alias(\"team_id\"),\n",
    "                  F.col(\"first_name\"),\n",
    "                  F.col(\"second_name\")\n",
    "              )\n",
    "    players_dfs.append(df)\n",
    "\n",
    "players_all = players_dfs[0]\n",
    "for df in players_dfs[1:]:\n",
    "    players_all = players_all.unionByName(df)\n",
    "\n",
    "#Extract one random player name per team per season for identification\n",
    "window_spec = Window.partitionBy(\"season\", \"team_code\", \"team_id\").orderBy(F.rand())\n",
    "\n",
    "teams_base_df = players_all.withColumn(\n",
    "        \"full_name\", \n",
    "        F.concat_ws(\" \", F.col(\"first_name\"), F.col(\"second_name\"))\n",
    "    ).withColumn(\n",
    "        \"row_num\", \n",
    "        F.row_number().over(window_spec)\n",
    "    ).filter(F.col(\"row_num\") == 1\n",
    "    ).select(\n",
    "        \"season\", \n",
    "        \"team_code\", \n",
    "        \"team_id\", \n",
    "        \"full_name\"\n",
    "    ).withColumn(\n",
    "        \"team_name\", \n",
    "        F.lit(None).cast(\"string\")\n",
    "    ).withColumn(\n",
    "        \"team_name_short\", \n",
    "        F.lit(None).cast(\"string\")\n",
    "    ).withColumn(\n",
    "        \"is_promoted\", \n",
    "        F.lit(None).cast(\"boolean\")\n",
    "    ).withColumn(\n",
    "        \"is_relegated\", \n",
    "        F.lit(None).cast(\"boolean\")\n",
    "    )\n",
    "\n",
    "#Load teams_25_26 (not historic) and align schema\n",
    "teams_25_26_df = spark.table(f\"{bronze_schema}.teams_25_26\"\n",
    ").select(\n",
    "        F.lit(\"25_26\").alias(\"season\"),\n",
    "        F.col(\"code\").alias(\"team_code\"),\n",
    "        F.col(\"id\").alias(\"team_id\"),\n",
    "        F.lit(None).cast(\"string\").alias(\"full_name\"),  # No player name available\n",
    "        F.col(\"name\").alias(\"team_name\"),\n",
    "        F.col(\"short_name\").alias(\"team_name_short\"),\n",
    "        F.lit(None).cast(\"boolean\").alias(\"is_promoted\"),\n",
    "        F.lit(None).cast(\"boolean\").alias(\"is_relegated\")\n",
    "    )\n",
    "\n",
    "#Union all seasons + 25_26\n",
    "teams_df = teams_base_df.unionByName(teams_25_26_df)\n",
    "\n",
    "display(teams_df)"
   ]
  }
 ],
 "metadata": {
  "application/vnd.databricks.v1+notebook": {
   "computePreferences": null,
   "dashboards": [],
   "environmentMetadata": {
    "base_environment": "",
    "environment_version": "4"
   },
   "inputWidgetPreferences": null,
   "language": "python",
   "notebookMetadata": {
    "pythonIndentUnit": 4
   },
   "notebookName": "bronze_silver_investigation",
   "widgets": {}
  },
  "language_info": {
   "name": "python"
  }
 },
 "nbformat": 4,
 "nbformat_minor": 0
}