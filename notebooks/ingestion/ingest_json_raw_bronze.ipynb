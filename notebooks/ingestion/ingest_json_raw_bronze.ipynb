{
 "cells": [
  {
   "cell_type": "markdown",
   "metadata": {
    "application/vnd.databricks.v1+cell": {
     "cellMetadata": {
      "byteLimit": 2048000,
      "rowLimit": 10000
     },
     "inputWidgets": {},
     "nuid": "ccbebcf2-9c7b-4bc9-8bcb-cee38b41374f",
     "showTitle": false,
     "tableResultSettingsMap": {},
     "title": ""
    }
   },
   "source": [
    "# Ingest JSON from Raw to Bronze\n",
    "\n",
    "Ingest bootstrap-static and fixtures from manually uploaded JSON files\n",
    "\n",
    "Write to bronze layer tables in fpl_bronze volume."
   ]
  },
  {
   "cell_type": "code",
   "execution_count": 0,
   "metadata": {
    "application/vnd.databricks.v1+cell": {
     "cellMetadata": {
      "byteLimit": 2048000,
      "rowLimit": 10000
     },
     "inputWidgets": {},
     "nuid": "a17dc47b-6b3e-4386-9b59-9e61d6967058",
     "showTitle": false,
     "tableResultSettingsMap": {},
     "title": ""
    }
   },
   "outputs": [],
   "source": [
    "import pyspark.sql.functions as F\n",
    "from delta.tables import DeltaTable\n",
    "from pyspark.sql import DataFrame, SparkSession"
   ]
  },
  {
   "cell_type": "code",
   "execution_count": 0,
   "metadata": {
    "application/vnd.databricks.v1+cell": {
     "cellMetadata": {
      "byteLimit": 2048000,
      "rowLimit": 10000
     },
     "inputWidgets": {},
     "nuid": "d4ed4bd6-ec82-45b9-aa4f-00a6c4ad95ec",
     "showTitle": false,
     "tableResultSettingsMap": {},
     "title": ""
    }
   },
   "outputs": [],
   "source": [
    "def read_latest_raw_json(\n",
    "        base_path: str, \n",
    "        filename: str, \n",
    "        spark: SparkSession, \n",
    "        utils) -> DataFrame:\n",
    "    \"\"\"\n",
    "    Reads the latest raw JSON file from a folder structure in DBFS.\n",
    "\n",
    "    Parameters:\n",
    "    - base_path (str): Base path where folders are stored.\n",
    "    - filename (str): Name of the JSON file to read.\n",
    "    - spark (SparkSession): Active Spark session.\n",
    "    - utils: utility object (databricks or fabric).\n",
    "\n",
    "    Returns:\n",
    "    - DataFrame: Parsed Spark DataFrame from the latest folder.\n",
    "    \"\"\"\n",
    "    folders = utils.fs.ls(base_path)\n",
    "    latest_folder = sorted(folders, key=lambda x: x.name, reverse=True)[0].path\n",
    "    print(f\"Loading folder: {latest_folder}\")\n",
    "    return spark.read.option(\"multiline\", \"true\").json(f\"{latest_folder}/{filename}\")\n",
    "\n",
    "def ingest_entity(\n",
    "    entity_config: dict,\n",
    "    bronze_schema: str,\n",
    "    protocol: str,\n",
    "    season: str,\n",
    "    spark: SparkSession\n",
    ") -> None:\n",
    "    \"\"\"\n",
    "    Ingests a single entity into the bronze layer.\n",
    "\n",
    "    Parameters:\n",
    "    - entity_config (dict): Configuration for the entity.\n",
    "    - bronze_schema (str): Target schema name.\n",
    "    - protocol (str): Global ingestion protocol ('HIST' or 'INCR').\n",
    "    - season (str): current season suffix for tables\n",
    "    - spark (SparkSession): Active Spark session.\n",
    "\n",
    "    The entity_config must include:\n",
    "    - name (str): Entity name.\n",
    "    - df (DataFrame): Source DataFrame.\n",
    "    - protocol (str): Entity-specific protocol.\n",
    "    Optional keys:\n",
    "    - path (str): Column to select or explode.\n",
    "    - explode (bool): Whether to explode the path.\n",
    "    - alias (str): Alias for exploded column.\n",
    "    - merge_key (str): Key to use for merge condition.\n",
    "    \"\"\"\n",
    "    name = entity_config[\"name\"] + \"_\" + season\n",
    "    df = entity_config[\"df\"]\n",
    "    path = entity_config.get(\"path\")\n",
    "    explode = entity_config.get(\"explode\", False)\n",
    "    alias = entity_config.get(\"alias\")\n",
    "    merge_key = entity_config.get(\"merge_key\")\n",
    "    entity_protocol = entity_config[\"protocol\"]\n",
    "\n",
    "    # Extract and transform\n",
    "    if explode and path:\n",
    "        entity_df = df.select(F.explode(path).alias(alias)).select(f\"{alias}.*\")\n",
    "    elif path:\n",
    "        entity_df = df.select(path)\n",
    "    else:\n",
    "        entity_df = df\n",
    "\n",
    "    # # Detect schema drift\n",
    "    # detect_schema_drift(\n",
    "    #     new_df=entity_df,\n",
    "    #     table_name=f\"{bronze_schema}.{name}\",\n",
    "    #     spark=spark\n",
    "    # )\n",
    "\n",
    "    # Write or merge\n",
    "    if protocol == \"HIST\":\n",
    "        write_to_table(\n",
    "            df=entity_df,\n",
    "            table_name=f\"{bronze_schema}.{name}\"\n",
    "        )\n",
    "        print(f\"[HIST] {name} written to {bronze_schema}.{name}.\")\n",
    "    elif entity_protocol == \"INCR\" and protocol == \"INCR\":\n",
    "        merge_to_table(\n",
    "            df=entity_df,\n",
    "            table_name=f\"{bronze_schema}.{name}\",\n",
    "            merge_condition=f\"target.{merge_key} = source.{merge_key}\",\n",
    "            spark=spark\n",
    "        )\n",
    "        print(f\"[INCR] {name} merged to {bronze_schema}.{name}.\")\n"
   ]
  },
  {
   "cell_type": "code",
   "execution_count": 0,
   "metadata": {
    "application/vnd.databricks.v1+cell": {
     "cellMetadata": {
      "byteLimit": 2048000,
      "rowLimit": 10000
     },
     "inputWidgets": {},
     "nuid": "14353721-dd2b-495e-a211-13d6126cdb7d",
     "showTitle": false,
     "tableResultSettingsMap": {},
     "title": ""
    }
   },
   "outputs": [],
   "source": [
    "def write_to_table(\n",
    "    df: DataFrame,\n",
    "    table_name: str,\n",
    "    mode: str = \"overwrite\",\n",
    "    merge_schema: bool = True,\n",
    "    partition_by: list[str] = None,\n",
    "    path: str = None,\n",
    "    save_as_table: bool = True\n",
    ") -> None:\n",
    "    \"\"\"\n",
    "    Generalised Delta write helper for bronze layer.\n",
    "\n",
    "    Parameters:\n",
    "    - df (DataFrame): Spark DataFrame to write.\n",
    "    - table_name (str): Name of the Delta table (used if save_as_table=True).\n",
    "    - mode (str): Write mode ('overwrite', 'append', 'ignore', 'error', etc.).\n",
    "    - merge_schema (bool): Whether to merge schema on write.\n",
    "    - partition_by (list[str], optional): List of columns to partition by.\n",
    "    - path (str, optional): Path to save the Delta table (used if save_as_table=False).\n",
    "    - save_as_table (bool): If True, saves as managed table; else saves to path.\n",
    "\n",
    "    Raises:\n",
    "    - ValueError: If neither save_as_table nor path is properly specified.\n",
    "    \"\"\"\n",
    "\n",
    "    df_with_ts = df.withColumn(\"last_updated\", F.current_timestamp())\n",
    "\n",
    "    writer = df_with_ts.write.format(\"delta\").mode(mode)\n",
    "\n",
    "    if merge_schema:\n",
    "        writer = writer.option(\"mergeSchema\", \"true\")\n",
    "    elif mode == \"overwrite\":\n",
    "        writer = writer.option(\"overwriteSchema\", \"true\")\n",
    "\n",
    "    if partition_by:\n",
    "        writer = writer.partitionBy(*partition_by)\n",
    "\n",
    "    if save_as_table:\n",
    "        writer.saveAsTable(table_name)\n",
    "    elif path:\n",
    "        writer.save(path)\n",
    "    else:\n",
    "        raise ValueError(\"Either save_as_table must be True or a path must be provided.\")\n",
    "\n",
    "def detect_schema_drift(new_df: DataFrame, table_name: str, spark: SparkSession) -> bool:\n",
    "    \"\"\"\n",
    "    Detects schema drift between a new DataFrame and an existing Delta table.\n",
    "\n",
    "    Parameters:\n",
    "    - new_df (DataFrame): The new DataFrame to compare.\n",
    "    - table_name (str): The name of the existing Delta table.\n",
    "    - spark (SparkSession): The active Spark session.\n",
    "\n",
    "    Returns:\n",
    "    - bool: True if schema drift is detected, False otherwise.\n",
    "    \"\"\"\n",
    "    try:\n",
    "        existing_df = spark.table(table_name)\n",
    "        existing_fields = set(field.name for field in existing_df.schema.fields if field.name != \"last_updated\")\n",
    "        new_fields = set(field.name for field in new_df.schema.fields if field.name != \"last_updated\")\n",
    "\n",
    "        added = new_fields - existing_fields\n",
    "        removed = existing_fields - new_fields\n",
    "\n",
    "        if added or removed:\n",
    "            print(f\"Schema drift detected in {table_name}\")\n",
    "            if added:\n",
    "                print(f\"Added fields: {added}\")\n",
    "            if removed:\n",
    "                print(f\"Removed fields: {removed}\")\n",
    "            return True\n",
    "        return False\n",
    "    except Exception:\n",
    "        print(f\"ℹ No existing table found for {table_name}. Assuming first write.\")\n",
    "        return False\n",
    "\n",
    "def merge_to_table(\n",
    "    df: DataFrame,\n",
    "    table_name: str,\n",
    "    merge_condition: str,\n",
    "    spark: SparkSession,\n",
    "    partition_by: list[str] = None\n",
    ") -> None:\n",
    "    \"\"\"\n",
    "    Performs an upsert (merge) into a Delta table.\n",
    "\n",
    "    Parameters:\n",
    "    - df (DataFrame): Incoming DataFrame to merge.\n",
    "    - table_name (str): Target Delta table name.\n",
    "    - merge_condition (str): SQL condition for matching rows.\n",
    "    - spark (SparkSession): Active Spark session.\n",
    "    - partition_by (list[str], optional): Columns to partition by on initial write.\n",
    "\n",
    "    If the table does not exist, it will be created using write_to_table.\n",
    "    \"\"\"\n",
    "    df_with_ts = df.withColumn(\"last_updated\", F.current_timestamp())\n",
    "\n",
    "    if not spark.catalog.tableExists(table_name):\n",
    "        write_to_table(\n",
    "            df=df_with_ts,\n",
    "            table_name=table_name,\n",
    "            partition_by=partition_by\n",
    "        )\n",
    "    else:\n",
    "        delta_table = DeltaTable.forName(spark, table_name)\n",
    "        (\n",
    "            delta_table.alias(\"target\")\n",
    "            .merge(\n",
    "                source=df_with_ts.alias(\"source\"),\n",
    "                condition=merge_condition\n",
    "            )\n",
    "            .whenMatchedUpdateAll()\n",
    "            .whenNotMatchedInsertAll()\n",
    "            .execute()\n",
    "        )"
   ]
  },
  {
   "cell_type": "code",
   "execution_count": 0,
   "metadata": {
    "application/vnd.databricks.v1+cell": {
     "cellMetadata": {
      "byteLimit": 2048000,
      "rowLimit": 10000
     },
     "inputWidgets": {},
     "nuid": "0de1a84d-bb48-4485-8463-286674cf869a",
     "showTitle": false,
     "tableResultSettingsMap": {},
     "title": ""
    }
   },
   "outputs": [],
   "source": [
    "try:\n",
    "    ENV = dbutils.widgets.get(\"ENV\")\n",
    "except Exception:\n",
    "    ENV = \"dev\"\n",
    "\n",
    "try:\n",
    "    PROTOCOL = dbutils.widgets.get(\"PROTOCOL\")\n",
    "except Exception:\n",
    "    PROTOCOL = \"HIST\"\n",
    "\n",
    "#ensure valid ENV and PROTOCOL\n",
    "valid_envs = {\"dev\", \"test\", \"prod\"}\n",
    "valid_protocols = {\"HIST\", \"INCR\"}\n",
    "\n",
    "# Validate ENV\n",
    "if ENV not in valid_envs:\n",
    "    print(f\"Invalid ENV: {ENV}. Must be one of {valid_envs}. Exiting notebook.\")\n",
    "    dbutils.notebook.exit(\"Invalid ENV\")\n",
    "\n",
    "# Validate PROTOCOL\n",
    "if PROTOCOL not in valid_protocols:\n",
    "    print(f\"Invalid PROTOCOL: {PROTOCOL}. Must be one of {valid_protocols}. Exiting notebook.\")\n",
    "    dbutils.notebook.exit(\"Invalid PROTOCOL\")"
   ]
  },
  {
   "cell_type": "code",
   "execution_count": 0,
   "metadata": {
    "application/vnd.databricks.v1+cell": {
     "cellMetadata": {
      "byteLimit": 2048000,
      "rowLimit": 10000
     },
     "inputWidgets": {},
     "nuid": "c1decc49-8dd3-48f4-a23b-189200475099",
     "showTitle": false,
     "tableResultSettingsMap": {},
     "title": ""
    }
   },
   "outputs": [],
   "source": [
    "BRONZE_SCHEMA = f\"fpl_bronze_{ENV}\"\n",
    "CURRENT_SEASON = \"2025_26\"\n",
    "CURRENT_SEASON_SHORT = CURRENT_SEASON[2:]\n",
    "BASE_RAW_JSON_PATH = f\"/Volumes/workspace/fpl_raw/player_data/{CURRENT_SEASON}\""
   ]
  },
  {
   "cell_type": "markdown",
   "metadata": {
    "application/vnd.databricks.v1+cell": {
     "cellMetadata": {
      "byteLimit": 2048000,
      "rowLimit": 10000
     },
     "inputWidgets": {},
     "nuid": "d0c9e511-e8bc-4767-8268-a50ced5a46b4",
     "showTitle": false,
     "tableResultSettingsMap": {},
     "title": ""
    }
   },
   "source": [
    "# Ingest Raw JSON files\n",
    "\n",
    "bootstrap-static is core data, with schema as:\n",
    "\n",
    "- events: Basic information of every Gameweek such as average score, highest score, top scoring player, most captained, etc. Incremental\n",
    "- game_settings: The game settings and rules. \n",
    "- phases: Phases of FPL season. \n",
    "- teams: Basic information of current Premier League clubs.\n",
    "- total_players: Total FPL players.\n",
    "- elements: Information of all Premier League players including points, status, value, match stats (goals, assists, etc.), ICT index, etc. Incremental\n",
    "- element_types: Basic information about player’s position (GK, DEF, MID, FWD).\n",
    "- chips: All chips available in FPL.\n",
    "- game_config: scoring and game setup rules.\n",
    "\n",
    "\n",
    "fixtures contains all data about fixtures for the season. It needs to be incrementally loaded as fixtures change often due to clashes/TV viewing changes.\n",
    "\n",
    "Ingested on a weekly basis (after end of gameweek) and tables written to {table_name}_{season} e.g. events_25_26 for future season ingestion."
   ]
  },
  {
   "cell_type": "code",
   "execution_count": 0,
   "metadata": {
    "application/vnd.databricks.v1+cell": {
     "cellMetadata": {
      "byteLimit": 2048000,
      "rowLimit": 10000
     },
     "inputWidgets": {},
     "nuid": "c9966e07-5ec8-4959-9a69-e205c6073421",
     "showTitle": false,
     "tableResultSettingsMap": {},
     "title": ""
    }
   },
   "outputs": [
    {
     "output_type": "stream",
     "name": "stdout",
     "output_type": "stream",
     "text": [
      "Loading folder: dbfs:/Volumes/workspace/fpl_raw/player_data/2025_26/gw_07/\nLoading folder: dbfs:/Volumes/workspace/fpl_raw/player_data/2025_26/gw_07/\n"
     ]
    }
   ],
   "source": [
    "bootstrap_static_df = read_latest_raw_json(\n",
    "    base_path = BASE_RAW_JSON_PATH, \n",
    "    filename = \"bootstrap_static.json\",\n",
    "    spark = spark,\n",
    "    utils = dbutils\n",
    "    )\n",
    "    \n",
    "fixtures_df = read_latest_raw_json(\n",
    "    base_path = BASE_RAW_JSON_PATH, \n",
    "    filename = \"fixtures.json\",\n",
    "    spark = spark,\n",
    "    utils = dbutils\n",
    "    )"
   ]
  },
  {
   "cell_type": "code",
   "execution_count": 0,
   "metadata": {
    "application/vnd.databricks.v1+cell": {
     "cellMetadata": {
      "byteLimit": 2048000,
      "rowLimit": 10000
     },
     "inputWidgets": {},
     "nuid": "52903144-ca83-429b-a3d3-6202b3c6486a",
     "showTitle": false,
     "tableResultSettingsMap": {},
     "title": ""
    }
   },
   "outputs": [
    {
     "output_type": "stream",
     "name": "stdout",
     "output_type": "stream",
     "text": [
      "root\n |-- chips: array (nullable = true)\n |    |-- element: struct (containsNull = true)\n |    |    |-- chip_type: string (nullable = true)\n |    |    |-- id: long (nullable = true)\n |    |    |-- name: string (nullable = true)\n |    |    |-- number: long (nullable = true)\n |    |    |-- overrides: struct (nullable = true)\n |    |    |    |-- element_types: array (nullable = true)\n |    |    |    |    |-- element: string (containsNull = true)\n |    |    |    |-- pick_multiplier: string (nullable = true)\n |    |    |    |-- rules: struct (nullable = true)\n |    |    |    |    |-- squad_squadsize: long (nullable = true)\n |    |    |-- start_event: long (nullable = true)\n |    |    |-- stop_event: long (nullable = true)\n |-- element_stats: array (nullable = true)\n |    |-- element: struct (containsNull = true)\n |    |    |-- label: string (nullable = true)\n |    |    |-- name: string (nullable = true)\n |-- element_types: array (nullable = true)\n |    |-- element: struct (containsNull = true)\n |    |    |-- element_count: long (nullable = true)\n |    |    |-- id: long (nullable = true)\n |    |    |-- plural_name: string (nullable = true)\n |    |    |-- plural_name_short: string (nullable = true)\n |    |    |-- singular_name: string (nullable = true)\n |    |    |-- singular_name_short: string (nullable = true)\n |    |    |-- squad_max_play: long (nullable = true)\n |    |    |-- squad_max_select: string (nullable = true)\n |    |    |-- squad_min_play: long (nullable = true)\n |    |    |-- squad_min_select: string (nullable = true)\n |    |    |-- squad_select: long (nullable = true)\n |    |    |-- sub_positions_locked: array (nullable = true)\n |    |    |    |-- element: long (containsNull = true)\n |    |    |-- ui_shirt_specific: boolean (nullable = true)\n |-- elements: array (nullable = true)\n |    |-- element: struct (containsNull = true)\n |    |    |-- assists: long (nullable = true)\n |    |    |-- birth_date: string (nullable = true)\n |    |    |-- bonus: long (nullable = true)\n |    |    |-- bps: long (nullable = true)\n |    |    |-- can_select: boolean (nullable = true)\n |    |    |-- can_transact: boolean (nullable = true)\n |    |    |-- chance_of_playing_next_round: long (nullable = true)\n |    |    |-- chance_of_playing_this_round: long (nullable = true)\n |    |    |-- clean_sheets: long (nullable = true)\n |    |    |-- clean_sheets_per_90: double (nullable = true)\n |    |    |-- clearances_blocks_interceptions: long (nullable = true)\n |    |    |-- code: long (nullable = true)\n |    |    |-- corners_and_indirect_freekicks_order: long (nullable = true)\n |    |    |-- corners_and_indirect_freekicks_text: string (nullable = true)\n |    |    |-- cost_change_event: long (nullable = true)\n |    |    |-- cost_change_event_fall: long (nullable = true)\n |    |    |-- cost_change_start: long (nullable = true)\n |    |    |-- cost_change_start_fall: long (nullable = true)\n |    |    |-- creativity: string (nullable = true)\n |    |    |-- creativity_rank: long (nullable = true)\n |    |    |-- creativity_rank_type: long (nullable = true)\n |    |    |-- defensive_contribution: long (nullable = true)\n |    |    |-- defensive_contribution_per_90: double (nullable = true)\n |    |    |-- direct_freekicks_order: long (nullable = true)\n |    |    |-- direct_freekicks_text: string (nullable = true)\n |    |    |-- dreamteam_count: long (nullable = true)\n |    |    |-- element_type: long (nullable = true)\n |    |    |-- ep_next: string (nullable = true)\n |    |    |-- ep_this: string (nullable = true)\n |    |    |-- event_points: long (nullable = true)\n |    |    |-- expected_assists: string (nullable = true)\n |    |    |-- expected_assists_per_90: double (nullable = true)\n |    |    |-- expected_goal_involvements: string (nullable = true)\n |    |    |-- expected_goal_involvements_per_90: double (nullable = true)\n |    |    |-- expected_goals: string (nullable = true)\n |    |    |-- expected_goals_conceded: string (nullable = true)\n |    |    |-- expected_goals_conceded_per_90: double (nullable = true)\n |    |    |-- expected_goals_per_90: double (nullable = true)\n |    |    |-- first_name: string (nullable = true)\n |    |    |-- form: string (nullable = true)\n |    |    |-- form_rank: long (nullable = true)\n |    |    |-- form_rank_type: long (nullable = true)\n |    |    |-- goals_conceded: long (nullable = true)\n |    |    |-- goals_conceded_per_90: double (nullable = true)\n |    |    |-- goals_scored: long (nullable = true)\n |    |    |-- has_temporary_code: boolean (nullable = true)\n |    |    |-- ict_index: string (nullable = true)\n |    |    |-- ict_index_rank: long (nullable = true)\n |    |    |-- ict_index_rank_type: long (nullable = true)\n |    |    |-- id: long (nullable = true)\n |    |    |-- in_dreamteam: boolean (nullable = true)\n |    |    |-- influence: string (nullable = true)\n |    |    |-- influence_rank: long (nullable = true)\n |    |    |-- influence_rank_type: long (nullable = true)\n |    |    |-- minutes: long (nullable = true)\n |    |    |-- news: string (nullable = true)\n |    |    |-- news_added: string (nullable = true)\n |    |    |-- now_cost: long (nullable = true)\n |    |    |-- now_cost_rank: long (nullable = true)\n |    |    |-- now_cost_rank_type: long (nullable = true)\n |    |    |-- opta_code: string (nullable = true)\n |    |    |-- own_goals: long (nullable = true)\n |    |    |-- penalties_missed: long (nullable = true)\n |    |    |-- penalties_order: long (nullable = true)\n |    |    |-- penalties_saved: long (nullable = true)\n |    |    |-- penalties_text: string (nullable = true)\n |    |    |-- photo: string (nullable = true)\n |    |    |-- points_per_game: string (nullable = true)\n |    |    |-- points_per_game_rank: long (nullable = true)\n |    |    |-- points_per_game_rank_type: long (nullable = true)\n |    |    |-- recoveries: long (nullable = true)\n |    |    |-- red_cards: long (nullable = true)\n |    |    |-- region: long (nullable = true)\n |    |    |-- removed: boolean (nullable = true)\n |    |    |-- saves: long (nullable = true)\n |    |    |-- saves_per_90: double (nullable = true)\n |    |    |-- second_name: string (nullable = true)\n |    |    |-- selected_by_percent: string (nullable = true)\n |    |    |-- selected_rank: long (nullable = true)\n |    |    |-- selected_rank_type: long (nullable = true)\n |    |    |-- special: boolean (nullable = true)\n |    |    |-- squad_number: string (nullable = true)\n |    |    |-- starts: long (nullable = true)\n |    |    |-- starts_per_90: double (nullable = true)\n |    |    |-- status: string (nullable = true)\n |    |    |-- tackles: long (nullable = true)\n |    |    |-- team: long (nullable = true)\n |    |    |-- team_code: long (nullable = true)\n |    |    |-- team_join_date: string (nullable = true)\n |    |    |-- threat: string (nullable = true)\n |    |    |-- threat_rank: long (nullable = true)\n |    |    |-- threat_rank_type: long (nullable = true)\n |    |    |-- total_points: long (nullable = true)\n |    |    |-- transfers_in: long (nullable = true)\n |    |    |-- transfers_in_event: long (nullable = true)\n |    |    |-- transfers_out: long (nullable = true)\n |    |    |-- transfers_out_event: long (nullable = true)\n |    |    |-- value_form: string (nullable = true)\n |    |    |-- value_season: string (nullable = true)\n |    |    |-- web_name: string (nullable = true)\n |    |    |-- yellow_cards: long (nullable = true)\n |-- events: array (nullable = true)\n |    |-- element: struct (containsNull = true)\n |    |    |-- average_entry_score: long (nullable = true)\n |    |    |-- can_enter: boolean (nullable = true)\n |    |    |-- can_manage: boolean (nullable = true)\n |    |    |-- chip_plays: array (nullable = true)\n |    |    |    |-- element: struct (containsNull = true)\n |    |    |    |    |-- chip_name: string (nullable = true)\n |    |    |    |    |-- num_played: long (nullable = true)\n |    |    |-- cup_leagues_created: boolean (nullable = true)\n |    |    |-- data_checked: boolean (nullable = true)\n |    |    |-- deadline_time: string (nullable = true)\n |    |    |-- deadline_time_epoch: long (nullable = true)\n |    |    |-- deadline_time_game_offset: long (nullable = true)\n |    |    |-- finished: boolean (nullable = true)\n |    |    |-- h2h_ko_matches_created: boolean (nullable = true)\n |    |    |-- highest_score: long (nullable = true)\n |    |    |-- highest_scoring_entry: long (nullable = true)\n |    |    |-- id: long (nullable = true)\n |    |    |-- is_current: boolean (nullable = true)\n |    |    |-- is_next: boolean (nullable = true)\n |    |    |-- is_previous: boolean (nullable = true)\n |    |    |-- most_captained: long (nullable = true)\n |    |    |-- most_selected: long (nullable = true)\n |    |    |-- most_transferred_in: long (nullable = true)\n |    |    |-- most_vice_captained: long (nullable = true)\n |    |    |-- name: string (nullable = true)\n |    |    |-- overrides: struct (nullable = true)\n |    |    |    |-- element_types: array (nullable = true)\n |    |    |    |    |-- element: string (containsNull = true)\n |    |    |    |-- pick_multiplier: string (nullable = true)\n |    |    |-- ranked_count: long (nullable = true)\n |    |    |-- release_time: string (nullable = true)\n |    |    |-- released: boolean (nullable = true)\n |    |    |-- top_element: long (nullable = true)\n |    |    |-- top_element_info: struct (nullable = true)\n |    |    |    |-- id: long (nullable = true)\n |    |    |    |-- points: long (nullable = true)\n |    |    |-- transfers_made: long (nullable = true)\n |-- game_config: struct (nullable = true)\n |    |-- rules: struct (nullable = true)\n |    |    |-- cup_qualifying_method: string (nullable = true)\n |    |    |-- cup_start_event_id: string (nullable = true)\n |    |    |-- cup_stop_event_id: string (nullable = true)\n |    |    |-- cup_type: string (nullable = true)\n |    |    |-- element_sell_at_purchase_price: boolean (nullable = true)\n |    |    |-- featured_entries: array (nullable = true)\n |    |    |    |-- element: string (containsNull = true)\n |    |    |-- league_h2h_tiebreak_stats: array (nullable = true)\n |    |    |    |-- element: string (containsNull = true)\n |    |    |-- league_join_private_max: long (nullable = true)\n |    |    |-- league_join_public_max: long (nullable = true)\n |    |    |-- league_ko_first_instead_of_random: boolean (nullable = true)\n |    |    |-- league_max_ko_rounds_private_h2h: long (nullable = true)\n |    |    |-- league_max_size_private_h2h: long (nullable = true)\n |    |    |-- league_max_size_public_classic: long (nullable = true)\n |    |    |-- league_max_size_public_h2h: long (nullable = true)\n |    |    |-- league_points_h2h_draw: long (nullable = true)\n |    |    |-- league_points_h2h_lose: long (nullable = true)\n |    |    |-- league_points_h2h_win: long (nullable = true)\n |    |    |-- league_prefix_public: string (nullable = true)\n |    |    |-- max_extra_free_transfers: long (nullable = true)\n |    |    |-- percentile_ranks: array (nullable = true)\n |    |    |    |-- element: long (containsNull = true)\n |    |    |-- squad_special_max: string (nullable = true)\n |    |    |-- squad_special_min: string (nullable = true)\n |    |    |-- squad_squadplay: long (nullable = true)\n |    |    |-- squad_squadsize: long (nullable = true)\n |    |    |-- squad_team_limit: long (nullable = true)\n |    |    |-- squad_total_spend: long (nullable = true)\n |    |    |-- stats_form_days: long (nullable = true)\n |    |    |-- sys_vice_captain_enabled: boolean (nullable = true)\n |    |    |-- transfers_cap: long (nullable = true)\n |    |    |-- transfers_sell_on_fee: double (nullable = true)\n |    |    |-- ui_currency_multiplier: long (nullable = true)\n |    |    |-- ui_special_shirt_exclusions: array (nullable = true)\n |    |    |    |-- element: string (containsNull = true)\n |    |    |-- ui_use_special_shirts: boolean (nullable = true)\n |    |    |-- underdog_differential: long (nullable = true)\n |    |-- scoring: struct (nullable = true)\n |    |    |-- assists: long (nullable = true)\n |    |    |-- bonus: long (nullable = true)\n |    |    |-- bps: long (nullable = true)\n |    |    |-- clean_sheets: struct (nullable = true)\n |    |    |    |-- DEF: long (nullable = true)\n |    |    |    |-- FWD: long (nullable = true)\n |    |    |    |-- GKP: long (nullable = true)\n |    |    |    |-- MID: long (nullable = true)\n |    |    |-- clearances_blocks_interceptions: long (nullable = true)\n |    |    |-- creativity: long (nullable = true)\n |    |    |-- defensive_contribution: struct (nullable = true)\n |    |    |    |-- DEF: long (nullable = true)\n |    |    |    |-- FWD: long (nullable = true)\n |    |    |    |-- GKP: long (nullable = true)\n |    |    |    |-- MID: long (nullable = true)\n |    |    |-- expected_assists: long (nullable = true)\n |    |    |-- expected_goal_involvements: long (nullable = true)\n |    |    |-- expected_goals: long (nullable = true)\n |    |    |-- expected_goals_conceded: long (nullable = true)\n |    |    |-- goals_conceded: struct (nullable = true)\n |    |    |    |-- DEF: long (nullable = true)\n |    |    |    |-- FWD: long (nullable = true)\n |    |    |    |-- GKP: long (nullable = true)\n |    |    |    |-- MID: long (nullable = true)\n |    |    |-- goals_scored: struct (nullable = true)\n |    |    |    |-- DEF: long (nullable = true)\n |    |    |    |-- FWD: long (nullable = true)\n |    |    |    |-- GKP: long (nullable = true)\n |    |    |    |-- MID: long (nullable = true)\n |    |    |-- ict_index: long (nullable = true)\n |    |    |-- influence: long (nullable = true)\n |    |    |-- long_play: long (nullable = true)\n |    |    |-- mng_clean_sheets: struct (nullable = true)\n |    |    |    |-- DEF: long (nullable = true)\n |    |    |    |-- FWD: long (nullable = true)\n |    |    |    |-- GKP: long (nullable = true)\n |    |    |    |-- MID: long (nullable = true)\n |    |    |-- mng_draw: struct (nullable = true)\n |    |    |    |-- DEF: long (nullable = true)\n |    |    |    |-- FWD: long (nullable = true)\n |    |    |    |-- GKP: long (nullable = true)\n |    |    |    |-- MID: long (nullable = true)\n |    |    |-- mng_goals_scored: struct (nullable = true)\n |    |    |    |-- DEF: long (nullable = true)\n |    |    |    |-- FWD: long (nullable = true)\n |    |    |    |-- GKP: long (nullable = true)\n |    |    |    |-- MID: long (nullable = true)\n |    |    |-- mng_loss: long (nullable = true)\n |    |    |-- mng_underdog_draw: struct (nullable = true)\n |    |    |    |-- DEF: long (nullable = true)\n |    |    |    |-- FWD: long (nullable = true)\n |    |    |    |-- GKP: long (nullable = true)\n |    |    |    |-- MID: long (nullable = true)\n |    |    |-- mng_underdog_win: struct (nullable = true)\n |    |    |    |-- DEF: long (nullable = true)\n |    |    |    |-- FWD: long (nullable = true)\n |    |    |    |-- GKP: long (nullable = true)\n |    |    |    |-- MID: long (nullable = true)\n |    |    |-- mng_win: struct (nullable = true)\n |    |    |    |-- DEF: long (nullable = true)\n |    |    |    |-- FWD: long (nullable = true)\n |    |    |    |-- GKP: long (nullable = true)\n |    |    |    |-- MID: long (nullable = true)\n |    |    |-- own_goals: long (nullable = true)\n |    |    |-- penalties_missed: long (nullable = true)\n |    |    |-- penalties_saved: long (nullable = true)\n |    |    |-- recoveries: long (nullable = true)\n |    |    |-- red_cards: long (nullable = true)\n |    |    |-- saves: long (nullable = true)\n |    |    |-- short_play: long (nullable = true)\n |    |    |-- special_multiplier: long (nullable = true)\n |    |    |-- starts: long (nullable = true)\n |    |    |-- tackles: long (nullable = true)\n |    |    |-- threat: long (nullable = true)\n |    |    |-- yellow_cards: long (nullable = true)\n |    |-- settings: struct (nullable = true)\n |    |    |-- entry_per_event: boolean (nullable = true)\n |    |    |-- timezone: string (nullable = true)\n |-- game_settings: struct (nullable = true)\n |    |-- cup_qualifying_method: string (nullable = true)\n |    |-- cup_start_event_id: string (nullable = true)\n |    |-- cup_stop_event_id: string (nullable = true)\n |    |-- cup_type: string (nullable = true)\n |    |-- element_sell_at_purchase_price: boolean (nullable = true)\n |    |-- featured_entries: array (nullable = true)\n |    |    |-- element: string (containsNull = true)\n |    |-- league_h2h_tiebreak_stats: array (nullable = true)\n |    |    |-- element: string (containsNull = true)\n |    |-- league_join_private_max: long (nullable = true)\n |    |-- league_join_public_max: long (nullable = true)\n |    |-- league_ko_first_instead_of_random: boolean (nullable = true)\n |    |-- league_max_ko_rounds_private_h2h: long (nullable = true)\n |    |-- league_max_size_private_h2h: long (nullable = true)\n |    |-- league_max_size_public_classic: long (nullable = true)\n |    |-- league_max_size_public_h2h: long (nullable = true)\n |    |-- league_points_h2h_draw: long (nullable = true)\n |    |-- league_points_h2h_lose: long (nullable = true)\n |    |-- league_points_h2h_win: long (nullable = true)\n |    |-- league_prefix_public: string (nullable = true)\n |    |-- max_extra_free_transfers: long (nullable = true)\n |    |-- percentile_ranks: array (nullable = true)\n |    |    |-- element: long (containsNull = true)\n |    |-- squad_special_max: string (nullable = true)\n |    |-- squad_special_min: string (nullable = true)\n |    |-- squad_squadplay: long (nullable = true)\n |    |-- squad_squadsize: long (nullable = true)\n |    |-- squad_team_limit: long (nullable = true)\n |    |-- squad_total_spend: long (nullable = true)\n |    |-- stats_form_days: long (nullable = true)\n |    |-- sys_vice_captain_enabled: boolean (nullable = true)\n |    |-- timezone: string (nullable = true)\n |    |-- transfers_cap: long (nullable = true)\n |    |-- transfers_sell_on_fee: double (nullable = true)\n |    |-- ui_currency_multiplier: long (nullable = true)\n |    |-- ui_special_shirt_exclusions: array (nullable = true)\n |    |    |-- element: string (containsNull = true)\n |    |-- ui_use_special_shirts: boolean (nullable = true)\n |    |-- underdog_differential: long (nullable = true)\n |-- phases: array (nullable = true)\n |    |-- element: struct (containsNull = true)\n |    |    |-- highest_score: long (nullable = true)\n |    |    |-- id: long (nullable = true)\n |    |    |-- name: string (nullable = true)\n |    |    |-- start_event: long (nullable = true)\n |    |    |-- stop_event: long (nullable = true)\n |-- teams: array (nullable = true)\n |    |-- element: struct (containsNull = true)\n |    |    |-- code: long (nullable = true)\n |    |    |-- draw: long (nullable = true)\n |    |    |-- form: string (nullable = true)\n |    |    |-- id: long (nullable = true)\n |    |    |-- loss: long (nullable = true)\n |    |    |-- name: string (nullable = true)\n |    |    |-- played: long (nullable = true)\n |    |    |-- points: long (nullable = true)\n |    |    |-- position: long (nullable = true)\n |    |    |-- pulse_id: long (nullable = true)\n |    |    |-- short_name: string (nullable = true)\n |    |    |-- strength: long (nullable = true)\n |    |    |-- strength_attack_away: long (nullable = true)\n |    |    |-- strength_attack_home: long (nullable = true)\n |    |    |-- strength_defence_away: long (nullable = true)\n |    |    |-- strength_defence_home: long (nullable = true)\n |    |    |-- strength_overall_away: long (nullable = true)\n |    |    |-- strength_overall_home: long (nullable = true)\n |    |    |-- team_division: string (nullable = true)\n |    |    |-- unavailable: boolean (nullable = true)\n |    |    |-- win: long (nullable = true)\n |-- total_players: long (nullable = true)\n\n"
     ]
    }
   ],
   "source": [
    "bootstrap_static_df.printSchema()"
   ]
  },
  {
   "cell_type": "code",
   "execution_count": 0,
   "metadata": {
    "application/vnd.databricks.v1+cell": {
     "cellMetadata": {
      "byteLimit": 2048000,
      "rowLimit": 10000
     },
     "inputWidgets": {},
     "nuid": "dee66f9f-03d0-4253-b16c-f1be2fb3ff85",
     "showTitle": false,
     "tableResultSettingsMap": {},
     "title": ""
    }
   },
   "outputs": [
    {
     "output_type": "stream",
     "name": "stdout",
     "output_type": "stream",
     "text": [
      "root\n |-- code: long (nullable = true)\n |-- event: long (nullable = true)\n |-- finished: boolean (nullable = true)\n |-- finished_provisional: boolean (nullable = true)\n |-- id: long (nullable = true)\n |-- kickoff_time: string (nullable = true)\n |-- minutes: long (nullable = true)\n |-- provisional_start_time: boolean (nullable = true)\n |-- pulse_id: long (nullable = true)\n |-- started: boolean (nullable = true)\n |-- stats: array (nullable = true)\n |    |-- element: struct (containsNull = true)\n |    |    |-- a: array (nullable = true)\n |    |    |    |-- element: struct (containsNull = true)\n |    |    |    |    |-- element: long (nullable = true)\n |    |    |    |    |-- value: long (nullable = true)\n |    |    |-- h: array (nullable = true)\n |    |    |    |-- element: struct (containsNull = true)\n |    |    |    |    |-- element: long (nullable = true)\n |    |    |    |    |-- value: long (nullable = true)\n |    |    |-- identifier: string (nullable = true)\n |-- team_a: long (nullable = true)\n |-- team_a_difficulty: long (nullable = true)\n |-- team_a_score: long (nullable = true)\n |-- team_h: long (nullable = true)\n |-- team_h_difficulty: long (nullable = true)\n |-- team_h_score: long (nullable = true)\n\n"
     ]
    }
   ],
   "source": [
    "fixtures_df.printSchema()"
   ]
  },
  {
   "cell_type": "code",
   "execution_count": 0,
   "metadata": {
    "application/vnd.databricks.v1+cell": {
     "cellMetadata": {
      "byteLimit": 2048000,
      "rowLimit": 10000
     },
     "inputWidgets": {},
     "nuid": "29909812-4bff-4b2d-96f5-faed9f700a75",
     "showTitle": false,
     "tableResultSettingsMap": {},
     "title": ""
    }
   },
   "outputs": [],
   "source": [
    "ENTITY_CONFIG = [\n",
    "    {\n",
    "        \"name\": \"chips\",\n",
    "        \"df\": bootstrap_static_df,\n",
    "        \"path\": \"chips\",\n",
    "        \"explode\": True,\n",
    "        \"alias\": \"chip\",\n",
    "        \"protocol\": \"HIST\"\n",
    "    },\n",
    "    {\n",
    "        \"name\": \"element_stats\",\n",
    "        \"df\": bootstrap_static_df,\n",
    "        \"path\": \"element_stats\",\n",
    "        \"explode\": True,\n",
    "        \"alias\": \"stat\",\n",
    "        \"protocol\": \"HIST\"\n",
    "    },\n",
    "    {\n",
    "        \"name\": \"element_types\",\n",
    "        \"df\": bootstrap_static_df,\n",
    "        \"path\": \"element_types\",\n",
    "        \"explode\": True,\n",
    "        \"alias\": \"type\",\n",
    "        \"protocol\": \"HIST\"\n",
    "    },\n",
    "    {\n",
    "        \"name\": \"game_config_scoring\",\n",
    "        \"df\": bootstrap_static_df,\n",
    "        \"path\": \"game_config.scoring\",\n",
    "        \"season\": CURRENT_SEASON_SHORT,\n",
    "        \"explode\": False,\n",
    "        \"protocol\": \"HIST\"\n",
    "    },\n",
    "    {\n",
    "        \"name\": \"game_config_rules\",\n",
    "        \"df\": bootstrap_static_df,\n",
    "        \"path\": \"game_config.rules\",\n",
    "        \"explode\": False,\n",
    "        \"protocol\": \"HIST\"\n",
    "    },\n",
    "    {\n",
    "        \"name\": \"phases\",\n",
    "        \"df\": bootstrap_static_df,\n",
    "        \"path\": \"phases\",\n",
    "        \"explode\": True,\n",
    "        \"alias\": \"phase\",\n",
    "        \"protocol\": \"HIST\"\n",
    "    },\n",
    "    {\n",
    "        \"name\": \"teams\",\n",
    "        \"df\": bootstrap_static_df,\n",
    "        \"path\": \"teams\",\n",
    "        \"explode\": True,\n",
    "        \"alias\": \"team\",\n",
    "        \"protocol\": \"HIST\"\n",
    "    },\n",
    "    {\n",
    "        \"name\": \"elements\",\n",
    "        \"df\": bootstrap_static_df,\n",
    "        \"path\": \"elements\",\n",
    "        \"explode\": True,\n",
    "        \"alias\": \"player\",\n",
    "        \"protocol\": \"INCR\",\n",
    "        \"merge_key\": \"id\"\n",
    "    },\n",
    "    {\n",
    "        \"name\": \"events\",\n",
    "        \"df\": bootstrap_static_df,\n",
    "        \"path\": \"events\",\n",
    "        \"explode\": True,\n",
    "        \"alias\": \"event\",\n",
    "        \"protocol\": \"INCR\",\n",
    "        \"merge_key\": \"id\"\n",
    "    },\n",
    "    {\n",
    "        \"name\": \"fixtures\",\n",
    "        \"df\": fixtures_df,\n",
    "        \"path\": None,\n",
    "        \"explode\": False,\n",
    "        \"protocol\": \"INCR\",\n",
    "        \"merge_key\": \"id\"\n",
    "    }\n",
    "\n",
    "]"
   ]
  },
  {
   "cell_type": "code",
   "execution_count": 0,
   "metadata": {
    "application/vnd.databricks.v1+cell": {
     "cellMetadata": {
      "byteLimit": 2048000,
      "rowLimit": 10000
     },
     "inputWidgets": {},
     "nuid": "bc43edac-6584-46f8-af79-168806e01bf1",
     "showTitle": false,
     "tableResultSettingsMap": {},
     "title": ""
    }
   },
   "outputs": [
    {
     "output_type": "stream",
     "name": "stdout",
     "output_type": "stream",
     "text": [
      "[HIST] chips_25_26 written to fpl_bronze_dev.chips_25_26.\n[HIST] element_stats_25_26 written to fpl_bronze_dev.element_stats_25_26.\n[HIST] element_types_25_26 written to fpl_bronze_dev.element_types_25_26.\n[HIST] game_config_scoring_25_26 written to fpl_bronze_dev.game_config_scoring_25_26.\n[HIST] game_config_rules_25_26 written to fpl_bronze_dev.game_config_rules_25_26.\n[HIST] phases_25_26 written to fpl_bronze_dev.phases_25_26.\n[HIST] teams_25_26 written to fpl_bronze_dev.teams_25_26.\n[HIST] elements_25_26 written to fpl_bronze_dev.elements_25_26.\n[HIST] events_25_26 written to fpl_bronze_dev.events_25_26.\n[HIST] fixtures_25_26 written to fpl_bronze_dev.fixtures_25_26.\n"
     ]
    }
   ],
   "source": [
    "for entity in ENTITY_CONFIG:\n",
    "    ingest_entity(\n",
    "        entity_config = entity,\n",
    "        bronze_schema = BRONZE_SCHEMA,\n",
    "        protocol = PROTOCOL,\n",
    "        season = CURRENT_SEASON_SHORT,\n",
    "        spark = spark\n",
    "    )"
   ]
  }
 ],
 "metadata": {
  "application/vnd.databricks.v1+notebook": {
   "computePreferences": null,
   "dashboards": [],
   "environmentMetadata": {
    "base_environment": "",
    "environment_version": "4"
   },
   "inputWidgetPreferences": null,
   "language": "python",
   "notebookMetadata": {
    "pythonIndentUnit": 4
   },
   "notebookName": "ingest_json_raw_bronze",
   "widgets": {}
  },
  "language_info": {
   "name": "python"
  }
 },
 "nbformat": 4,
 "nbformat_minor": 0
}