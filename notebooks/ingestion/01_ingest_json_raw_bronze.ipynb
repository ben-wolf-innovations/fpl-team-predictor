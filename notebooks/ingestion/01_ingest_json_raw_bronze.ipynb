{
 "cells": [
  {
   "cell_type": "markdown",
   "metadata": {
    "application/vnd.databricks.v1+cell": {
     "cellMetadata": {
      "byteLimit": 2048000,
      "rowLimit": 10000
     },
     "inputWidgets": {},
     "nuid": "ccbebcf2-9c7b-4bc9-8bcb-cee38b41374f",
     "showTitle": false,
     "tableResultSettingsMap": {},
     "title": ""
    }
   },
   "source": [
    "# Ingest JSON from Raw to Bronze\n",
    "\n",
    "Ingest bootstrap-static and fixtures from manually uploaded JSON files\n",
    "\n",
    "Write to bronze layer tables in fpl_bronze volume."
   ]
  },
  {
   "cell_type": "code",
   "execution_count": 0,
   "metadata": {
    "application/vnd.databricks.v1+cell": {
     "cellMetadata": {
      "byteLimit": 2048000,
      "rowLimit": 10000
     },
     "inputWidgets": {},
     "nuid": "a17dc47b-6b3e-4386-9b59-9e61d6967058",
     "showTitle": false,
     "tableResultSettingsMap": {},
     "title": ""
    }
   },
   "outputs": [],
   "source": [
    "import pyspark.sql.functions as F\n",
    "from delta.tables import DeltaTable"
   ]
  },
  {
   "cell_type": "code",
   "execution_count": 0,
   "metadata": {
    "application/vnd.databricks.v1+cell": {
     "cellMetadata": {
      "byteLimit": 2048000,
      "rowLimit": 10000
     },
     "inputWidgets": {},
     "nuid": "c1decc49-8dd3-48f4-a23b-189200475099",
     "showTitle": false,
     "tableResultSettingsMap": {},
     "title": ""
    }
   },
   "outputs": [],
   "source": [
    "ENV = \"test\"\n",
    "BRONZE_SCHEMA = f\"fpl_bronze_{ENV}\"\n",
    "BASE_RAW_JSON_PATH = \"/Volumes/workspace/fpl_raw/raw_json/\"\n",
    "PROTOCOL = \"INCR\""
   ]
  },
  {
   "cell_type": "markdown",
   "metadata": {
    "application/vnd.databricks.v1+cell": {
     "cellMetadata": {
      "byteLimit": 2048000,
      "rowLimit": 10000
     },
     "inputWidgets": {},
     "nuid": "99ced1fe-b85e-4bab-8150-1cc718a80816",
     "showTitle": false,
     "tableResultSettingsMap": {},
     "title": ""
    }
   },
   "source": [
    "# Functions to Modularise"
   ]
  },
  {
   "cell_type": "code",
   "execution_count": 0,
   "metadata": {
    "application/vnd.databricks.v1+cell": {
     "cellMetadata": {
      "byteLimit": 2048000,
      "rowLimit": 10000
     },
     "inputWidgets": {},
     "nuid": "57126e0e-a003-4ccc-b76a-5d9e122a7fb4",
     "showTitle": false,
     "tableResultSettingsMap": {},
     "title": ""
    }
   },
   "outputs": [],
   "source": [
    "def merge_to_table(\n",
    "    df,\n",
    "    table_name,\n",
    "    merge_condition,\n",
    "    spark,\n",
    "    partition_by=None\n",
    "):\n",
    "    df_with_ts = df.withColumn(\"last_updated\", F.current_timestamp())\n",
    "\n",
    "    if not spark.catalog.tableExists(table_name):\n",
    "        # First time write\n",
    "        write_to_table(\n",
    "            df = df_with_ts,\n",
    "            table_name = table_name,\n",
    "            partition_by = partition_by\n",
    "        )\n",
    "    else:\n",
    "        delta_table = DeltaTable.forName(spark, table_name)\n",
    "        (\n",
    "            delta_table.alias(\"target\")\n",
    "            .merge(\n",
    "                source = df_with_ts.alias(\"source\"),\n",
    "                condition = merge_condition\n",
    "            )\n",
    "            .whenMatchedUpdateAll()\n",
    "            .whenNotMatchedInsertAll()\n",
    "            .execute()\n",
    "        )"
   ]
  },
  {
   "cell_type": "code",
   "execution_count": 0,
   "metadata": {
    "application/vnd.databricks.v1+cell": {
     "cellMetadata": {
      "byteLimit": 2048000,
      "rowLimit": 10000
     },
     "inputWidgets": {},
     "nuid": "029d70a6-2224-4ebc-8647-837faf79116c",
     "showTitle": false,
     "tableResultSettingsMap": {},
     "title": ""
    }
   },
   "outputs": [],
   "source": [
    "def read_latest_raw_json(base_path, filename):\n",
    "    latest_folder = sorted(dbutils.fs.ls(base_path), key=lambda x: x.name, reverse=True)[0].path\n",
    "    print(\"Loading folder: \", latest_folder)\n",
    "    return spark.read.option(\"multiline\", \"true\").json(f\"{latest_folder}/{filename}\")"
   ]
  },
  {
   "cell_type": "code",
   "execution_count": 0,
   "metadata": {
    "application/vnd.databricks.v1+cell": {
     "cellMetadata": {
      "byteLimit": 2048000,
      "rowLimit": 10000
     },
     "inputWidgets": {},
     "nuid": "c38062d0-46b7-4237-a46e-1b618b64dd1f",
     "showTitle": false,
     "tableResultSettingsMap": {},
     "title": ""
    }
   },
   "outputs": [],
   "source": [
    "def write_to_table(\n",
    "        df,\n",
    "        table_name,\n",
    "        mode=\"overwrite\",\n",
    "        merge_schema=True,\n",
    "        partition_by=None,\n",
    "        path=None,\n",
    "        save_as_table=True\n",
    "    ):\n",
    "    \"\"\"\n",
    "    Generalised Delta write helper for bronze layer.\n",
    "\n",
    "    Parameters:\n",
    "    - df: Spark DataFrame to write.\n",
    "    - table_name: Name of the Delta table (used if save_as_table=True).\n",
    "    - mode: Write mode ('overwrite', 'append', 'ignore', 'error', etc.).\n",
    "    - merge_schema: Whether to merge schema on write.\n",
    "    - partition_by: Optional list of columns to partition by.\n",
    "    - path: Optional path to save the Delta table (used if save_as_table=False).\n",
    "    - save_as_table: If True, saves as managed table; else saves to path.\n",
    "    \"\"\"\n",
    "\n",
    "    df_with_ts = df.withColumn(\"last_updated\", F.current_timestamp())\n",
    "\n",
    "    writer = df_with_ts.write.format(\"delta\").mode(mode)\n",
    "\n",
    "    if merge_schema:\n",
    "        writer = writer.option(\"mergeSchema\", \"true\")\n",
    "    elif mode == \"overwrite\":\n",
    "        writer = writer.option(\"overwriteSchema\", \"true\")\n",
    "\n",
    "    if partition_by:\n",
    "        writer = writer.partitionBy(*partition_by)\n",
    "\n",
    "    if save_as_table:\n",
    "        writer.saveAsTable(table_name)\n",
    "    elif path:\n",
    "        writer.save(path)\n",
    "    else:\n",
    "        raise ValueError(\"Either save_as_table must be True or a path must be provided.\")"
   ]
  },
  {
   "cell_type": "code",
   "execution_count": 0,
   "metadata": {
    "application/vnd.databricks.v1+cell": {
     "cellMetadata": {
      "byteLimit": 2048000,
      "rowLimit": 10000
     },
     "inputWidgets": {},
     "nuid": "472428e4-5cde-402f-b3d1-792760040eb2",
     "showTitle": false,
     "tableResultSettingsMap": {},
     "title": ""
    }
   },
   "outputs": [],
   "source": [
    "def detect_schema_drift(new_df, table_name, spark):\n",
    "    try:\n",
    "        existing_df = spark.table(table_name)\n",
    "        existing_fields = set([field.name for field in existing_df.schema.fields if field.name != \"last_updated\"])\n",
    "        new_fields = set([field.name for field in new_df.schema.fields if field.name != \"last_updated\"])\n",
    "\n",
    "        added = new_fields - existing_fields\n",
    "        removed = existing_fields - new_fields\n",
    "\n",
    "        if added or removed:\n",
    "            print(f\"Schema drift detected in {table_name}\")\n",
    "            if added:\n",
    "                print(f\"Added fields: {added}\")\n",
    "            if removed:\n",
    "                print(f\"Removed fields: {removed}\")\n",
    "            return True\n",
    "        else:\n",
    "            return False\n",
    "    except Exception as e:\n",
    "        print(f\"ℹNo existing table found for {table_name}. Assuming first write.\")\n",
    "        return False"
   ]
  },
  {
   "cell_type": "markdown",
   "metadata": {
    "application/vnd.databricks.v1+cell": {
     "cellMetadata": {
      "byteLimit": 2048000,
      "rowLimit": 10000
     },
     "inputWidgets": {},
     "nuid": "d0c9e511-e8bc-4767-8268-a50ced5a46b4",
     "showTitle": false,
     "tableResultSettingsMap": {},
     "title": ""
    }
   },
   "source": [
    "# Bootstrap-static\n",
    "\n",
    "bootstrap-static is core data, with schema as:\n",
    "\n",
    "- events: Basic information of every Gameweek such as average score, highest score, top scoring player, most captained, etc.\n",
    "- game_settings: The game settings and rules. \n",
    "- phases: Phases of FPL season. \n",
    "- teams: Basic information of current Premier League clubs.\n",
    "- total_players: Total FPL players.\n",
    "- elements: Information of all Premier League players including points, status, value, match stats (goals, assists, etc.), ICT index, etc.\n",
    "- element_types: Basic information about player’s position (GK, DEF, MID, FWD).\n",
    "- chips: All chips available in FPL.\n",
    "- game_config: scoring and game setup rules.\n"
   ]
  },
  {
   "cell_type": "code",
   "execution_count": 0,
   "metadata": {
    "application/vnd.databricks.v1+cell": {
     "cellMetadata": {
      "byteLimit": 2048000,
      "rowLimit": 10000
     },
     "inputWidgets": {},
     "nuid": "9844b0cf-ed55-45ea-b6b7-7ed6851e0176",
     "showTitle": false,
     "tableResultSettingsMap": {},
     "title": ""
    }
   },
   "outputs": [
    {
     "output_type": "stream",
     "name": "stdout",
     "output_type": "stream",
     "text": [
      "Loading folder:  dbfs:/Volumes/workspace/fpl_raw/raw_json/2025_26_gw_07/\n"
     ]
    }
   ],
   "source": [
    "bootstrap_static_df = read_latest_raw_json(\n",
    "    base_path = BASE_RAW_JSON_PATH, \n",
    "    filename = \"bootstrap_static.json\"\n",
    "    )"
   ]
  },
  {
   "cell_type": "code",
   "execution_count": 0,
   "metadata": {
    "application/vnd.databricks.v1+cell": {
     "cellMetadata": {
      "byteLimit": 2048000,
      "rowLimit": 10000
     },
     "inputWidgets": {},
     "nuid": "52903144-ca83-429b-a3d3-6202b3c6486a",
     "showTitle": false,
     "tableResultSettingsMap": {},
     "title": ""
    }
   },
   "outputs": [
    {
     "output_type": "stream",
     "name": "stdout",
     "output_type": "stream",
     "text": [
      "root\n |-- chips: array (nullable = true)\n |    |-- element: struct (containsNull = true)\n |    |    |-- chip_type: string (nullable = true)\n |    |    |-- id: long (nullable = true)\n |    |    |-- name: string (nullable = true)\n |    |    |-- number: long (nullable = true)\n |    |    |-- overrides: struct (nullable = true)\n |    |    |    |-- element_types: array (nullable = true)\n |    |    |    |    |-- element: string (containsNull = true)\n |    |    |    |-- pick_multiplier: string (nullable = true)\n |    |    |    |-- rules: struct (nullable = true)\n |    |    |    |    |-- squad_squadsize: long (nullable = true)\n |    |    |-- start_event: long (nullable = true)\n |    |    |-- stop_event: long (nullable = true)\n |-- element_stats: array (nullable = true)\n |    |-- element: struct (containsNull = true)\n |    |    |-- label: string (nullable = true)\n |    |    |-- name: string (nullable = true)\n |-- element_types: array (nullable = true)\n |    |-- element: struct (containsNull = true)\n |    |    |-- element_count: long (nullable = true)\n |    |    |-- id: long (nullable = true)\n |    |    |-- plural_name: string (nullable = true)\n |    |    |-- plural_name_short: string (nullable = true)\n |    |    |-- singular_name: string (nullable = true)\n |    |    |-- singular_name_short: string (nullable = true)\n |    |    |-- squad_max_play: long (nullable = true)\n |    |    |-- squad_max_select: string (nullable = true)\n |    |    |-- squad_min_play: long (nullable = true)\n |    |    |-- squad_min_select: string (nullable = true)\n |    |    |-- squad_select: long (nullable = true)\n |    |    |-- sub_positions_locked: array (nullable = true)\n |    |    |    |-- element: long (containsNull = true)\n |    |    |-- ui_shirt_specific: boolean (nullable = true)\n |-- elements: array (nullable = true)\n |    |-- element: struct (containsNull = true)\n |    |    |-- assists: long (nullable = true)\n |    |    |-- birth_date: string (nullable = true)\n |    |    |-- bonus: long (nullable = true)\n |    |    |-- bps: long (nullable = true)\n |    |    |-- can_select: boolean (nullable = true)\n |    |    |-- can_transact: boolean (nullable = true)\n |    |    |-- chance_of_playing_next_round: long (nullable = true)\n |    |    |-- chance_of_playing_this_round: long (nullable = true)\n |    |    |-- clean_sheets: long (nullable = true)\n |    |    |-- clean_sheets_per_90: double (nullable = true)\n |    |    |-- clearances_blocks_interceptions: long (nullable = true)\n |    |    |-- code: long (nullable = true)\n |    |    |-- corners_and_indirect_freekicks_order: long (nullable = true)\n |    |    |-- corners_and_indirect_freekicks_text: string (nullable = true)\n |    |    |-- cost_change_event: long (nullable = true)\n |    |    |-- cost_change_event_fall: long (nullable = true)\n |    |    |-- cost_change_start: long (nullable = true)\n |    |    |-- cost_change_start_fall: long (nullable = true)\n |    |    |-- creativity: string (nullable = true)\n |    |    |-- creativity_rank: long (nullable = true)\n |    |    |-- creativity_rank_type: long (nullable = true)\n |    |    |-- defensive_contribution: long (nullable = true)\n |    |    |-- defensive_contribution_per_90: double (nullable = true)\n |    |    |-- direct_freekicks_order: long (nullable = true)\n |    |    |-- direct_freekicks_text: string (nullable = true)\n |    |    |-- dreamteam_count: long (nullable = true)\n |    |    |-- element_type: long (nullable = true)\n |    |    |-- ep_next: string (nullable = true)\n |    |    |-- ep_this: string (nullable = true)\n |    |    |-- event_points: long (nullable = true)\n |    |    |-- expected_assists: string (nullable = true)\n |    |    |-- expected_assists_per_90: double (nullable = true)\n |    |    |-- expected_goal_involvements: string (nullable = true)\n |    |    |-- expected_goal_involvements_per_90: double (nullable = true)\n |    |    |-- expected_goals: string (nullable = true)\n |    |    |-- expected_goals_conceded: string (nullable = true)\n |    |    |-- expected_goals_conceded_per_90: double (nullable = true)\n |    |    |-- expected_goals_per_90: double (nullable = true)\n |    |    |-- first_name: string (nullable = true)\n |    |    |-- form: string (nullable = true)\n |    |    |-- form_rank: long (nullable = true)\n |    |    |-- form_rank_type: long (nullable = true)\n |    |    |-- goals_conceded: long (nullable = true)\n |    |    |-- goals_conceded_per_90: double (nullable = true)\n |    |    |-- goals_scored: long (nullable = true)\n |    |    |-- has_temporary_code: boolean (nullable = true)\n |    |    |-- ict_index: string (nullable = true)\n |    |    |-- ict_index_rank: long (nullable = true)\n |    |    |-- ict_index_rank_type: long (nullable = true)\n |    |    |-- id: long (nullable = true)\n |    |    |-- in_dreamteam: boolean (nullable = true)\n |    |    |-- influence: string (nullable = true)\n |    |    |-- influence_rank: long (nullable = true)\n |    |    |-- influence_rank_type: long (nullable = true)\n |    |    |-- minutes: long (nullable = true)\n |    |    |-- news: string (nullable = true)\n |    |    |-- news_added: string (nullable = true)\n |    |    |-- now_cost: long (nullable = true)\n |    |    |-- now_cost_rank: long (nullable = true)\n |    |    |-- now_cost_rank_type: long (nullable = true)\n |    |    |-- opta_code: string (nullable = true)\n |    |    |-- own_goals: long (nullable = true)\n |    |    |-- penalties_missed: long (nullable = true)\n |    |    |-- penalties_order: long (nullable = true)\n |    |    |-- penalties_saved: long (nullable = true)\n |    |    |-- penalties_text: string (nullable = true)\n |    |    |-- photo: string (nullable = true)\n |    |    |-- points_per_game: string (nullable = true)\n |    |    |-- points_per_game_rank: long (nullable = true)\n |    |    |-- points_per_game_rank_type: long (nullable = true)\n |    |    |-- recoveries: long (nullable = true)\n |    |    |-- red_cards: long (nullable = true)\n |    |    |-- region: long (nullable = true)\n |    |    |-- removed: boolean (nullable = true)\n |    |    |-- saves: long (nullable = true)\n |    |    |-- saves_per_90: double (nullable = true)\n |    |    |-- second_name: string (nullable = true)\n |    |    |-- selected_by_percent: string (nullable = true)\n |    |    |-- selected_rank: long (nullable = true)\n |    |    |-- selected_rank_type: long (nullable = true)\n |    |    |-- special: boolean (nullable = true)\n |    |    |-- squad_number: string (nullable = true)\n |    |    |-- starts: long (nullable = true)\n |    |    |-- starts_per_90: double (nullable = true)\n |    |    |-- status: string (nullable = true)\n |    |    |-- tackles: long (nullable = true)\n |    |    |-- team: long (nullable = true)\n |    |    |-- team_code: long (nullable = true)\n |    |    |-- team_join_date: string (nullable = true)\n |    |    |-- threat: string (nullable = true)\n |    |    |-- threat_rank: long (nullable = true)\n |    |    |-- threat_rank_type: long (nullable = true)\n |    |    |-- total_points: long (nullable = true)\n |    |    |-- transfers_in: long (nullable = true)\n |    |    |-- transfers_in_event: long (nullable = true)\n |    |    |-- transfers_out: long (nullable = true)\n |    |    |-- transfers_out_event: long (nullable = true)\n |    |    |-- value_form: string (nullable = true)\n |    |    |-- value_season: string (nullable = true)\n |    |    |-- web_name: string (nullable = true)\n |    |    |-- yellow_cards: long (nullable = true)\n |-- events: array (nullable = true)\n |    |-- element: struct (containsNull = true)\n |    |    |-- average_entry_score: long (nullable = true)\n |    |    |-- can_enter: boolean (nullable = true)\n |    |    |-- can_manage: boolean (nullable = true)\n |    |    |-- chip_plays: array (nullable = true)\n |    |    |    |-- element: struct (containsNull = true)\n |    |    |    |    |-- chip_name: string (nullable = true)\n |    |    |    |    |-- num_played: long (nullable = true)\n |    |    |-- cup_leagues_created: boolean (nullable = true)\n |    |    |-- data_checked: boolean (nullable = true)\n |    |    |-- deadline_time: string (nullable = true)\n |    |    |-- deadline_time_epoch: long (nullable = true)\n |    |    |-- deadline_time_game_offset: long (nullable = true)\n |    |    |-- finished: boolean (nullable = true)\n |    |    |-- h2h_ko_matches_created: boolean (nullable = true)\n |    |    |-- highest_score: long (nullable = true)\n |    |    |-- highest_scoring_entry: long (nullable = true)\n |    |    |-- id: long (nullable = true)\n |    |    |-- is_current: boolean (nullable = true)\n |    |    |-- is_next: boolean (nullable = true)\n |    |    |-- is_previous: boolean (nullable = true)\n |    |    |-- most_captained: long (nullable = true)\n |    |    |-- most_selected: long (nullable = true)\n |    |    |-- most_transferred_in: long (nullable = true)\n |    |    |-- most_vice_captained: long (nullable = true)\n |    |    |-- name: string (nullable = true)\n |    |    |-- overrides: struct (nullable = true)\n |    |    |    |-- element_types: array (nullable = true)\n |    |    |    |    |-- element: string (containsNull = true)\n |    |    |    |-- pick_multiplier: string (nullable = true)\n |    |    |-- ranked_count: long (nullable = true)\n |    |    |-- release_time: string (nullable = true)\n |    |    |-- released: boolean (nullable = true)\n |    |    |-- top_element: long (nullable = true)\n |    |    |-- top_element_info: struct (nullable = true)\n |    |    |    |-- id: long (nullable = true)\n |    |    |    |-- points: long (nullable = true)\n |    |    |-- transfers_made: long (nullable = true)\n |-- game_config: struct (nullable = true)\n |    |-- rules: struct (nullable = true)\n |    |    |-- cup_qualifying_method: string (nullable = true)\n |    |    |-- cup_start_event_id: string (nullable = true)\n |    |    |-- cup_stop_event_id: string (nullable = true)\n |    |    |-- cup_type: string (nullable = true)\n |    |    |-- element_sell_at_purchase_price: boolean (nullable = true)\n |    |    |-- featured_entries: array (nullable = true)\n |    |    |    |-- element: string (containsNull = true)\n |    |    |-- league_h2h_tiebreak_stats: array (nullable = true)\n |    |    |    |-- element: string (containsNull = true)\n |    |    |-- league_join_private_max: long (nullable = true)\n |    |    |-- league_join_public_max: long (nullable = true)\n |    |    |-- league_ko_first_instead_of_random: boolean (nullable = true)\n |    |    |-- league_max_ko_rounds_private_h2h: long (nullable = true)\n |    |    |-- league_max_size_private_h2h: long (nullable = true)\n |    |    |-- league_max_size_public_classic: long (nullable = true)\n |    |    |-- league_max_size_public_h2h: long (nullable = true)\n |    |    |-- league_points_h2h_draw: long (nullable = true)\n |    |    |-- league_points_h2h_lose: long (nullable = true)\n |    |    |-- league_points_h2h_win: long (nullable = true)\n |    |    |-- league_prefix_public: string (nullable = true)\n |    |    |-- max_extra_free_transfers: long (nullable = true)\n |    |    |-- percentile_ranks: array (nullable = true)\n |    |    |    |-- element: long (containsNull = true)\n |    |    |-- squad_special_max: string (nullable = true)\n |    |    |-- squad_special_min: string (nullable = true)\n |    |    |-- squad_squadplay: long (nullable = true)\n |    |    |-- squad_squadsize: long (nullable = true)\n |    |    |-- squad_team_limit: long (nullable = true)\n |    |    |-- squad_total_spend: long (nullable = true)\n |    |    |-- stats_form_days: long (nullable = true)\n |    |    |-- sys_vice_captain_enabled: boolean (nullable = true)\n |    |    |-- transfers_cap: long (nullable = true)\n |    |    |-- transfers_sell_on_fee: double (nullable = true)\n |    |    |-- ui_currency_multiplier: long (nullable = true)\n |    |    |-- ui_special_shirt_exclusions: array (nullable = true)\n |    |    |    |-- element: string (containsNull = true)\n |    |    |-- ui_use_special_shirts: boolean (nullable = true)\n |    |    |-- underdog_differential: long (nullable = true)\n |    |-- scoring: struct (nullable = true)\n |    |    |-- assists: long (nullable = true)\n |    |    |-- bonus: long (nullable = true)\n |    |    |-- bps: long (nullable = true)\n |    |    |-- clean_sheets: struct (nullable = true)\n |    |    |    |-- DEF: long (nullable = true)\n |    |    |    |-- FWD: long (nullable = true)\n |    |    |    |-- GKP: long (nullable = true)\n |    |    |    |-- MID: long (nullable = true)\n |    |    |-- clearances_blocks_interceptions: long (nullable = true)\n |    |    |-- creativity: long (nullable = true)\n |    |    |-- defensive_contribution: struct (nullable = true)\n |    |    |    |-- DEF: long (nullable = true)\n |    |    |    |-- FWD: long (nullable = true)\n |    |    |    |-- GKP: long (nullable = true)\n |    |    |    |-- MID: long (nullable = true)\n |    |    |-- expected_assists: long (nullable = true)\n |    |    |-- expected_goal_involvements: long (nullable = true)\n |    |    |-- expected_goals: long (nullable = true)\n |    |    |-- expected_goals_conceded: long (nullable = true)\n |    |    |-- goals_conceded: struct (nullable = true)\n |    |    |    |-- DEF: long (nullable = true)\n |    |    |    |-- FWD: long (nullable = true)\n |    |    |    |-- GKP: long (nullable = true)\n |    |    |    |-- MID: long (nullable = true)\n |    |    |-- goals_scored: struct (nullable = true)\n |    |    |    |-- DEF: long (nullable = true)\n |    |    |    |-- FWD: long (nullable = true)\n |    |    |    |-- GKP: long (nullable = true)\n |    |    |    |-- MID: long (nullable = true)\n |    |    |-- ict_index: long (nullable = true)\n |    |    |-- influence: long (nullable = true)\n |    |    |-- long_play: long (nullable = true)\n |    |    |-- mng_clean_sheets: struct (nullable = true)\n |    |    |    |-- DEF: long (nullable = true)\n |    |    |    |-- FWD: long (nullable = true)\n |    |    |    |-- GKP: long (nullable = true)\n |    |    |    |-- MID: long (nullable = true)\n |    |    |-- mng_draw: struct (nullable = true)\n |    |    |    |-- DEF: long (nullable = true)\n |    |    |    |-- FWD: long (nullable = true)\n |    |    |    |-- GKP: long (nullable = true)\n |    |    |    |-- MID: long (nullable = true)\n |    |    |-- mng_goals_scored: struct (nullable = true)\n |    |    |    |-- DEF: long (nullable = true)\n |    |    |    |-- FWD: long (nullable = true)\n |    |    |    |-- GKP: long (nullable = true)\n |    |    |    |-- MID: long (nullable = true)\n |    |    |-- mng_loss: long (nullable = true)\n |    |    |-- mng_underdog_draw: struct (nullable = true)\n |    |    |    |-- DEF: long (nullable = true)\n |    |    |    |-- FWD: long (nullable = true)\n |    |    |    |-- GKP: long (nullable = true)\n |    |    |    |-- MID: long (nullable = true)\n |    |    |-- mng_underdog_win: struct (nullable = true)\n |    |    |    |-- DEF: long (nullable = true)\n |    |    |    |-- FWD: long (nullable = true)\n |    |    |    |-- GKP: long (nullable = true)\n |    |    |    |-- MID: long (nullable = true)\n |    |    |-- mng_win: struct (nullable = true)\n |    |    |    |-- DEF: long (nullable = true)\n |    |    |    |-- FWD: long (nullable = true)\n |    |    |    |-- GKP: long (nullable = true)\n |    |    |    |-- MID: long (nullable = true)\n |    |    |-- own_goals: long (nullable = true)\n |    |    |-- penalties_missed: long (nullable = true)\n |    |    |-- penalties_saved: long (nullable = true)\n |    |    |-- recoveries: long (nullable = true)\n |    |    |-- red_cards: long (nullable = true)\n |    |    |-- saves: long (nullable = true)\n |    |    |-- short_play: long (nullable = true)\n |    |    |-- special_multiplier: long (nullable = true)\n |    |    |-- starts: long (nullable = true)\n |    |    |-- tackles: long (nullable = true)\n |    |    |-- threat: long (nullable = true)\n |    |    |-- yellow_cards: long (nullable = true)\n |    |-- settings: struct (nullable = true)\n |    |    |-- entry_per_event: boolean (nullable = true)\n |    |    |-- timezone: string (nullable = true)\n |-- game_settings: struct (nullable = true)\n |    |-- cup_qualifying_method: string (nullable = true)\n |    |-- cup_start_event_id: string (nullable = true)\n |    |-- cup_stop_event_id: string (nullable = true)\n |    |-- cup_type: string (nullable = true)\n |    |-- element_sell_at_purchase_price: boolean (nullable = true)\n |    |-- featured_entries: array (nullable = true)\n |    |    |-- element: string (containsNull = true)\n |    |-- league_h2h_tiebreak_stats: array (nullable = true)\n |    |    |-- element: string (containsNull = true)\n |    |-- league_join_private_max: long (nullable = true)\n |    |-- league_join_public_max: long (nullable = true)\n |    |-- league_ko_first_instead_of_random: boolean (nullable = true)\n |    |-- league_max_ko_rounds_private_h2h: long (nullable = true)\n |    |-- league_max_size_private_h2h: long (nullable = true)\n |    |-- league_max_size_public_classic: long (nullable = true)\n |    |-- league_max_size_public_h2h: long (nullable = true)\n |    |-- league_points_h2h_draw: long (nullable = true)\n |    |-- league_points_h2h_lose: long (nullable = true)\n |    |-- league_points_h2h_win: long (nullable = true)\n |    |-- league_prefix_public: string (nullable = true)\n |    |-- max_extra_free_transfers: long (nullable = true)\n |    |-- percentile_ranks: array (nullable = true)\n |    |    |-- element: long (containsNull = true)\n |    |-- squad_special_max: string (nullable = true)\n |    |-- squad_special_min: string (nullable = true)\n |    |-- squad_squadplay: long (nullable = true)\n |    |-- squad_squadsize: long (nullable = true)\n |    |-- squad_team_limit: long (nullable = true)\n |    |-- squad_total_spend: long (nullable = true)\n |    |-- stats_form_days: long (nullable = true)\n |    |-- sys_vice_captain_enabled: boolean (nullable = true)\n |    |-- timezone: string (nullable = true)\n |    |-- transfers_cap: long (nullable = true)\n |    |-- transfers_sell_on_fee: double (nullable = true)\n |    |-- ui_currency_multiplier: long (nullable = true)\n |    |-- ui_special_shirt_exclusions: array (nullable = true)\n |    |    |-- element: string (containsNull = true)\n |    |-- ui_use_special_shirts: boolean (nullable = true)\n |    |-- underdog_differential: long (nullable = true)\n |-- phases: array (nullable = true)\n |    |-- element: struct (containsNull = true)\n |    |    |-- highest_score: long (nullable = true)\n |    |    |-- id: long (nullable = true)\n |    |    |-- name: string (nullable = true)\n |    |    |-- start_event: long (nullable = true)\n |    |    |-- stop_event: long (nullable = true)\n |-- teams: array (nullable = true)\n |    |-- element: struct (containsNull = true)\n |    |    |-- code: long (nullable = true)\n |    |    |-- draw: long (nullable = true)\n |    |    |-- form: string (nullable = true)\n |    |    |-- id: long (nullable = true)\n |    |    |-- loss: long (nullable = true)\n |    |    |-- name: string (nullable = true)\n |    |    |-- played: long (nullable = true)\n |    |    |-- points: long (nullable = true)\n |    |    |-- position: long (nullable = true)\n |    |    |-- pulse_id: long (nullable = true)\n |    |    |-- short_name: string (nullable = true)\n |    |    |-- strength: long (nullable = true)\n |    |    |-- strength_attack_away: long (nullable = true)\n |    |    |-- strength_attack_home: long (nullable = true)\n |    |    |-- strength_defence_away: long (nullable = true)\n |    |    |-- strength_defence_home: long (nullable = true)\n |    |    |-- strength_overall_away: long (nullable = true)\n |    |    |-- strength_overall_home: long (nullable = true)\n |    |    |-- team_division: string (nullable = true)\n |    |    |-- unavailable: boolean (nullable = true)\n |    |    |-- win: long (nullable = true)\n |-- total_players: long (nullable = true)\n\n"
     ]
    }
   ],
   "source": [
    "bootstrap_static_df.printSchema()"
   ]
  },
  {
   "cell_type": "code",
   "execution_count": 0,
   "metadata": {
    "application/vnd.databricks.v1+cell": {
     "cellMetadata": {
      "byteLimit": 2048000,
      "rowLimit": 10000
     },
     "inputWidgets": {},
     "nuid": "b114a7b5-88ee-49ae-ace8-a52332313ce8",
     "showTitle": false,
     "tableResultSettingsMap": {},
     "title": ""
    }
   },
   "outputs": [],
   "source": [
    "if PROTOCOL == \"HIST\":\n",
    "    # Chips\n",
    "    chips_df = bootstrap_static_df.select(\n",
    "        F.explode(\"chips\").alias(\"chip\")\n",
    "    ).select(\n",
    "        \"chip.*\"\n",
    "    )\n",
    "    detect_schema_drift(\n",
    "        new_df = chips_df, \n",
    "        table_name = f\"{BRONZE_SCHEMA}.chips\", \n",
    "        spark = spark)\n",
    "    write_to_table(\n",
    "        df = chips_df, \n",
    "        table_name = f\"{BRONZE_SCHEMA}.chips\")\n",
    "    \n",
    "    # Element Stats\n",
    "    element_stats_df = bootstrap_static_df.select(\n",
    "            F.explode(\"element_stats\").alias(\"stat\")\n",
    "        ).select(\n",
    "            \"stat.*\"\n",
    "        )\n",
    "    detect_schema_drift(\n",
    "        new_df = element_stats_df, \n",
    "        table_name = f\"{BRONZE_SCHEMA}.element_stats\", \n",
    "        spark = spark)\n",
    "\n",
    "    write_to_table(\n",
    "        df = element_stats_df, \n",
    "        table_name = f\"{BRONZE_SCHEMA}.element_stats\")\n",
    "\n",
    "    # Element Types\n",
    "    element_types_df = bootstrap_static_df.select(\n",
    "            F.explode(\"element_types\").alias(\"type\")\n",
    "        ).select(\n",
    "            \"type.*\"\n",
    "        )\n",
    "\n",
    "    detect_schema_drift(\n",
    "        new_df = element_types_df, \n",
    "        table_name = f\"{BRONZE_SCHEMA}.element_types\", \n",
    "        spark = spark)\n",
    "    write_to_table(\n",
    "        df = element_types_df, \n",
    "        table_name = f\"{BRONZE_SCHEMA}.element_types\")\n",
    "        \n",
    "    # Game Config - Scoring\n",
    "    scoring_df = bootstrap_static_df.select(\n",
    "            \"game_config.scoring\"\n",
    "        )\n",
    "    detect_schema_drift(\n",
    "        new_df = scoring_df, \n",
    "        table_name = f\"{BRONZE_SCHEMA}.game_config_scoring\", \n",
    "        spark = spark)\n",
    "    write_to_table(\n",
    "        df = scoring_df, \n",
    "        table_name = f\"{BRONZE_SCHEMA}.game_config_scoring\")\n",
    "\n",
    "    # Game Config - Rules\n",
    "    rules_df = bootstrap_static_df.select(\n",
    "            \"game_config.rules\"\n",
    "        )\n",
    "    detect_schema_drift(\n",
    "        new_df = rules_df, \n",
    "        table_name = f\"{BRONZE_SCHEMA}.game_config_rules\", \n",
    "        spark = spark)\n",
    "    write_to_table(\n",
    "        df = rules_df, \n",
    "        table_name = f\"{BRONZE_SCHEMA}.game_config_rules\")\n",
    "\n",
    "    # Phases\n",
    "    phases_df = bootstrap_static_df.select(\n",
    "            F.explode(\"phases\").alias(\"phase\")\n",
    "        ).select(\n",
    "            \"phase.*\"\n",
    "        )\n",
    "    detect_schema_drift(\n",
    "        new_df = phases_df, \n",
    "        table_name = f\"{BRONZE_SCHEMA}.phases\", \n",
    "        spark = spark)\n",
    "    write_to_table(\n",
    "        df = phases_df, \n",
    "        table_name = f\"{BRONZE_SCHEMA}.phases\")\n",
    "\n",
    "    # Teams\n",
    "    teams_df = bootstrap_static_df.select(\n",
    "            F.explode(\"teams\").alias(\"team\")\n",
    "        ).select(\n",
    "            \"team.*\"\n",
    "        )\n",
    "    detect_schema_drift(\n",
    "        new_df = teams_df, \n",
    "        table_name = f\"{BRONZE_SCHEMA}.teams\", \n",
    "        spark = spark)\n",
    "    write_to_table(\n",
    "        df = teams_df, \n",
    "        table_name = f\"{BRONZE_SCHEMA}.teams\")\n",
    "\n",
    "\n",
    "\n",
    "# Elements\n",
    "elements_df = bootstrap_static_df.select(\n",
    "        F.explode(\"elements\").alias(\"player\")\n",
    "    ).select(\n",
    "        \"player.*\"\n",
    "    )\n",
    "detect_schema_drift(\n",
    "    new_df = elements_df, \n",
    "    table_name = f\"{BRONZE_SCHEMA}.elements\", \n",
    "    spark = spark)\n",
    "\n",
    "if PROTOCOL == \"HIST\":\n",
    "    write_to_table(\n",
    "        df = elements_df,\n",
    "        table_name = f\"{BRONZE_SCHEMA}.elements\"\n",
    "    )\n",
    "elif PROTOCOL == \"INCR\":\n",
    "    merge_to_table(\n",
    "        df = elements_df,\n",
    "        table_name = f\"{BRONZE_SCHEMA}.elements\",\n",
    "        merge_condition = \"target.id = source.id\",\n",
    "        spark = spark\n",
    "    )\n",
    "\n",
    "\n",
    "# Events\n",
    "events_df = bootstrap_static_df.select(\n",
    "        F.explode(\"events\").alias(\"event\")\n",
    "    ).select(\n",
    "        \"event.*\"\n",
    "    )\n",
    "detect_schema_drift(\n",
    "    new_df = events_df, \n",
    "    table_name = f\"{BRONZE_SCHEMA}.events\", \n",
    "    spark = spark)\n",
    "\n",
    "if PROTOCOL == \"HIST\":\n",
    "    write_to_table(\n",
    "        df = events_df,\n",
    "        table_name = f\"{BRONZE_SCHEMA}.events\"\n",
    "    )\n",
    "elif PROTOCOL == \"INCR\":\n",
    "    merge_to_table(\n",
    "        df = events_df,\n",
    "        table_name = f\"{BRONZE_SCHEMA}.events\",\n",
    "        merge_condition = \"target.id = source.id\",\n",
    "        spark = spark\n",
    "    )"
   ]
  },
  {
   "cell_type": "markdown",
   "metadata": {
    "application/vnd.databricks.v1+cell": {
     "cellMetadata": {
      "byteLimit": 2048000,
      "rowLimit": 10000
     },
     "inputWidgets": {},
     "nuid": "edde5d1a-7c43-4f59-9c69-4e61ab4f3306",
     "showTitle": false,
     "tableResultSettingsMap": {},
     "title": ""
    }
   },
   "source": [
    "# Fixtures\n",
    "\n",
    "Fixtures contains all data about fixtures for the season.\n",
    "\n",
    "Needs to be incrementally loaded as fixtures change often due to clashes/TV viewing changes."
   ]
  },
  {
   "cell_type": "code",
   "execution_count": 0,
   "metadata": {
    "application/vnd.databricks.v1+cell": {
     "cellMetadata": {
      "byteLimit": 2048000,
      "rowLimit": 10000
     },
     "inputWidgets": {},
     "nuid": "587423e7-0598-4bfd-9573-288e89ba4d9e",
     "showTitle": false,
     "tableResultSettingsMap": {},
     "title": ""
    }
   },
   "outputs": [
    {
     "output_type": "stream",
     "name": "stdout",
     "output_type": "stream",
     "text": [
      "Loading folder:  dbfs:/Volumes/workspace/fpl_raw/raw_json/2025_26_gw_07/\n"
     ]
    }
   ],
   "source": [
    "fixtures_df = read_latest_raw_json(\n",
    "    base_path = BASE_RAW_JSON_PATH, \n",
    "    filename = \"fixtures.json\"\n",
    "    )"
   ]
  },
  {
   "cell_type": "code",
   "execution_count": 0,
   "metadata": {
    "application/vnd.databricks.v1+cell": {
     "cellMetadata": {
      "byteLimit": 2048000,
      "rowLimit": 10000
     },
     "inputWidgets": {},
     "nuid": "dee66f9f-03d0-4253-b16c-f1be2fb3ff85",
     "showTitle": false,
     "tableResultSettingsMap": {},
     "title": ""
    }
   },
   "outputs": [
    {
     "output_type": "display_data",
     "data": {
      "text/plain": [
       ""
      ]
     },
     "metadata": {
      "application/vnd.databricks.v1+output": {
       "addedWidgets": {},
       "arguments": {},
       "datasetInfos": [],
       "jupyterProps": null,
       "metadata": {
        "errorSummary": "Command skipped"
       },
       "removedWidgets": [],
       "sqlProps": null,
       "stackFrames": [],
       "type": "baseError"
      }
     },
     "output_type": "display_data"
    }
   ],
   "source": [
    "fixtures_df.printSchema()"
   ]
  },
  {
   "cell_type": "code",
   "execution_count": 0,
   "metadata": {
    "application/vnd.databricks.v1+cell": {
     "cellMetadata": {
      "byteLimit": 2048000,
      "rowLimit": 10000
     },
     "inputWidgets": {},
     "nuid": "101354be-2cfe-4127-b6ec-8f715e2408af",
     "showTitle": false,
     "tableResultSettingsMap": {},
     "title": ""
    }
   },
   "outputs": [
    {
     "output_type": "stream",
     "name": "stdout",
     "output_type": "stream",
     "text": [
      "Schema drift detected in fpl_bronze_test.fixtures\nRemoved fields: {'last_updated'}\n"
     ]
    }
   ],
   "source": [
    "detect_schema_drift(\n",
    "    new_df = fixtures_df, \n",
    "    table_name = f\"{BRONZE_SCHEMA}.fixtures\", \n",
    "    spark = spark)\n",
    "\n",
    "if PROTOCOL == \"HIST\":\n",
    "    write_to_table(\n",
    "        df = fixtures_df,\n",
    "        table_name = f\"{BRONZE_SCHEMA}.fixtures\"\n",
    "    )\n",
    "elif PROTOCOL == \"INCR\":\n",
    "    merge_to_table(\n",
    "        df = fixtures_df,\n",
    "        table_name = f\"{BRONZE_SCHEMA}.fixtures\",\n",
    "        merge_condition = \"target.id = source.id\",\n",
    "        spark = spark\n",
    "    )"
   ]
  },
  {
   "cell_type": "markdown",
   "metadata": {
    "application/vnd.databricks.v1+cell": {
     "cellMetadata": {
      "byteLimit": 2048000,
      "rowLimit": 10000
     },
     "inputWidgets": {},
     "nuid": "0e429861-6654-4a28-ba0b-837f8482b86c",
     "showTitle": false,
     "tableResultSettingsMap": {},
     "title": ""
    }
   },
   "source": [
    "# Next Steps:\n",
    "\n",
    "modularise functions to .py\n",
    "\n",
    "unit tests on modularised functions\n",
    "\n",
    "ci/cd to test \n",
    "\n",
    "ci/cd to prod"
   ]
  }
 ],
 "metadata": {
  "application/vnd.databricks.v1+notebook": {
   "computePreferences": null,
   "dashboards": [],
   "environmentMetadata": {
    "base_environment": "",
    "environment_version": "4"
   },
   "inputWidgetPreferences": null,
   "language": "python",
   "notebookMetadata": {
    "pythonIndentUnit": 4
   },
   "notebookName": "01_ingest_json_raw_bronze",
   "widgets": {}
  },
  "language_info": {
   "name": "python"
  }
 },
 "nbformat": 4,
 "nbformat_minor": 0
}