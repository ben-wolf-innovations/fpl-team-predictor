{
 "cells": [
  {
   "cell_type": "markdown",
   "metadata": {
    "application/vnd.databricks.v1+cell": {
     "cellMetadata": {},
     "inputWidgets": {},
     "nuid": "ccbebcf2-9c7b-4bc9-8bcb-cee38b41374f",
     "showTitle": false,
     "tableResultSettingsMap": {},
     "title": ""
    }
   },
   "source": [
    "# Ingest JSON from Raw to Bronze\n",
    "\n",
    "Ingest bootstrap-static and fixtures from manually uploaded JSON files\n",
    "\n",
    "Write to bronze layer tables in fpl_bronze volume."
   ]
  },
  {
   "cell_type": "code",
   "execution_count": 0,
   "metadata": {
    "application/vnd.databricks.v1+cell": {
     "cellMetadata": {
      "byteLimit": 2048000,
      "rowLimit": 10000
     },
     "inputWidgets": {},
     "nuid": "cce47ae9-a971-48ee-8bc5-0dc324508ddf",
     "showTitle": false,
     "tableResultSettingsMap": {},
     "title": ""
    }
   },
   "outputs": [],
   "source": [
    "import sys\n",
    "print(\"test\")\n",
    "# Add your src folders to the Python path\n",
    "sys.path.append(\"/Workspace/Users/ben@wolfinnovations.org/fpl-team-predictor/src/ingestion\")\n",
    "sys.path.append(\"/Workspace/Users/ben@wolfinnovations.org/fpl-team-predictor/src/utils\")"
   ]
  },
  {
   "cell_type": "code",
   "execution_count": 0,
   "metadata": {
    "application/vnd.databricks.v1+cell": {
     "cellMetadata": {
      "byteLimit": 2048000,
      "rowLimit": 10000
     },
     "inputWidgets": {},
     "nuid": "a17dc47b-6b3e-4386-9b59-9e61d6967058",
     "showTitle": false,
     "tableResultSettingsMap": {},
     "title": ""
    }
   },
   "outputs": [],
   "source": [
    "import pyspark.sql.functions as F\n",
    "from delta.tables import DeltaTable\n",
    "from helper_data_utils import write_to_table, merge_to_table, detect_schema_drift\n",
    "from ingestion_utils import ingest_entity, read_latest_raw_json"
   ]
  },
  {
   "cell_type": "code",
   "execution_count": 0,
   "metadata": {
    "application/vnd.databricks.v1+cell": {
     "cellMetadata": {},
     "inputWidgets": {},
     "nuid": "0de1a84d-bb48-4485-8463-286674cf869a",
     "showTitle": false,
     "tableResultSettingsMap": {},
     "title": ""
    }
   },
   "outputs": [],
   "source": [
    "dbutils.widgets.text(\"env\", \"test\")\n",
    "ENV = dbutils.widgets.get(\"env\")\n"
   ]
  },
  {
   "cell_type": "code",
   "execution_count": 0,
   "metadata": {
    "application/vnd.databricks.v1+cell": {
     "cellMetadata": {
      "byteLimit": 2048000,
      "rowLimit": 10000
     },
     "inputWidgets": {},
     "nuid": "c1decc49-8dd3-48f4-a23b-189200475099",
     "showTitle": false,
     "tableResultSettingsMap": {},
     "title": ""
    }
   },
   "outputs": [],
   "source": [
    "BRONZE_SCHEMA = f\"fpl_bronze_{ENV}\"\n",
    "BASE_RAW_JSON_PATH = \"/Volumes/workspace/fpl_raw/raw_json/\"\n",
    "PROTOCOL = \"INCR\""
   ]
  },
  {
   "cell_type": "markdown",
   "metadata": {
    "application/vnd.databricks.v1+cell": {
     "cellMetadata": {},
     "inputWidgets": {},
     "nuid": "d0c9e511-e8bc-4767-8268-a50ced5a46b4",
     "showTitle": false,
     "tableResultSettingsMap": {},
     "title": ""
    }
   },
   "source": [
    "# Ingest Raw JSON files\n",
    "\n",
    "bootstrap-static is core data, with schema as:\n",
    "\n",
    "- events: Basic information of every Gameweek such as average score, highest score, top scoring player, most captained, etc. Incremental\n",
    "- game_settings: The game settings and rules. \n",
    "- phases: Phases of FPL season. \n",
    "- teams: Basic information of current Premier League clubs.\n",
    "- total_players: Total FPL players.\n",
    "- elements: Information of all Premier League players including points, status, value, match stats (goals, assists, etc.), ICT index, etc. Incremental\n",
    "- element_types: Basic information about player’s position (GK, DEF, MID, FWD).\n",
    "- chips: All chips available in FPL.\n",
    "- game_config: scoring and game setup rules.\n",
    "\n",
    "\n",
    "fixtures contains all data about fixtures for the season. It needs to be incrementally loaded as fixtures change often due to clashes/TV viewing changes."
   ]
  },
  {
   "cell_type": "code",
   "execution_count": 0,
   "metadata": {
    "application/vnd.databricks.v1+cell": {
     "cellMetadata": {
      "byteLimit": 2048000,
      "rowLimit": 10000
     },
     "inputWidgets": {},
     "nuid": "c9966e07-5ec8-4959-9a69-e205c6073421",
     "showTitle": false,
     "tableResultSettingsMap": {},
     "title": ""
    }
   },
   "outputs": [],
   "source": [
    "bootstrap_static_df = read_latest_raw_json(\n",
    "    base_path = BASE_RAW_JSON_PATH, \n",
    "    filename = \"bootstrap_static.json\",\n",
    "    spark = spark,\n",
    "    dbutils = dbutils\n",
    "    )\n",
    "    \n",
    "fixtures_df = read_latest_raw_json(\n",
    "    base_path = BASE_RAW_JSON_PATH, \n",
    "    filename = \"fixtures.json\",\n",
    "    spark = spark,\n",
    "    dbutils = dbutils\n",
    "    )"
   ]
  },
  {
   "cell_type": "code",
   "execution_count": 0,
   "metadata": {
    "application/vnd.databricks.v1+cell": {
     "cellMetadata": {
      "byteLimit": 2048000,
      "rowLimit": 10000
     },
     "inputWidgets": {},
     "nuid": "52903144-ca83-429b-a3d3-6202b3c6486a",
     "showTitle": false,
     "tableResultSettingsMap": {},
     "title": ""
    }
   },
   "outputs": [],
   "source": [
    "bootstrap_static_df.printSchema()"
   ]
  },
  {
   "cell_type": "code",
   "execution_count": 0,
   "metadata": {
    "application/vnd.databricks.v1+cell": {
     "cellMetadata": {
      "byteLimit": 2048000,
      "rowLimit": 10000
     },
     "inputWidgets": {},
     "nuid": "dee66f9f-03d0-4253-b16c-f1be2fb3ff85",
     "showTitle": false,
     "tableResultSettingsMap": {},
     "title": ""
    }
   },
   "outputs": [],
   "source": [
    "fixtures_df.printSchema()"
   ]
  },
  {
   "cell_type": "code",
   "execution_count": 0,
   "metadata": {
    "application/vnd.databricks.v1+cell": {
     "cellMetadata": {
      "byteLimit": 2048000,
      "rowLimit": 10000
     },
     "inputWidgets": {},
     "nuid": "29909812-4bff-4b2d-96f5-faed9f700a75",
     "showTitle": false,
     "tableResultSettingsMap": {},
     "title": ""
    }
   },
   "outputs": [],
   "source": [
    "ENTITY_CONFIG = [\n",
    "    {\n",
    "        \"name\": \"chips\",\n",
    "        \"df\": bootstrap_static_df,\n",
    "        \"path\": \"chips\",\n",
    "        \"explode\": True,\n",
    "        \"alias\": \"chip\",\n",
    "        \"protocol\": \"HIST\"\n",
    "    },\n",
    "    {\n",
    "        \"name\": \"element_stats\",\n",
    "        \"df\": bootstrap_static_df,\n",
    "        \"path\": \"element_stats\",\n",
    "        \"explode\": True,\n",
    "        \"alias\": \"stat\",\n",
    "        \"protocol\": \"HIST\"\n",
    "    },\n",
    "    {\n",
    "        \"name\": \"element_types\",\n",
    "        \"df\": bootstrap_static_df,\n",
    "        \"path\": \"element_types\",\n",
    "        \"explode\": True,\n",
    "        \"alias\": \"type\",\n",
    "        \"protocol\": \"HIST\"\n",
    "    },\n",
    "    {\n",
    "        \"name\": \"game_config_scoring\",\n",
    "        \"df\": bootstrap_static_df,\n",
    "        \"path\": \"game_config.scoring\",\n",
    "        \"explode\": False,\n",
    "        \"protocol\": \"HIST\"\n",
    "    },\n",
    "    {\n",
    "        \"name\": \"game_config_rules\",\n",
    "        \"df\": bootstrap_static_df,\n",
    "        \"path\": \"game_config.rules\",\n",
    "        \"explode\": False,\n",
    "        \"protocol\": \"HIST\"\n",
    "    },\n",
    "    {\n",
    "        \"name\": \"phases\",\n",
    "        \"df\": bootstrap_static_df,\n",
    "        \"path\": \"phases\",\n",
    "        \"explode\": True,\n",
    "        \"alias\": \"phase\",\n",
    "        \"protocol\": \"HIST\"\n",
    "    },\n",
    "    {\n",
    "        \"name\": \"teams\",\n",
    "        \"df\": bootstrap_static_df,\n",
    "        \"path\": \"teams\",\n",
    "        \"explode\": True,\n",
    "        \"alias\": \"team\",\n",
    "        \"protocol\": \"HIST\"\n",
    "    },\n",
    "    {\n",
    "        \"name\": \"elements\",\n",
    "        \"df\": bootstrap_static_df,\n",
    "        \"path\": \"elements\",\n",
    "        \"explode\": True,\n",
    "        \"alias\": \"player\",\n",
    "        \"protocol\": \"INCR\",\n",
    "        \"merge_key\": \"id\"\n",
    "    },\n",
    "    {\n",
    "        \"name\": \"events\",\n",
    "        \"df\": bootstrap_static_df,\n",
    "        \"path\": \"events\",\n",
    "        \"explode\": True,\n",
    "        \"alias\": \"event\",\n",
    "        \"protocol\": \"INCR\",\n",
    "        \"merge_key\": \"id\"\n",
    "    },\n",
    "    {\n",
    "        \"name\": \"fixtures\",\n",
    "        \"df\": fixtures_df,\n",
    "        \"path\": None,\n",
    "        \"explode\": False,\n",
    "        \"protocol\": \"INCR\",\n",
    "        \"merge_key\": \"id\"\n",
    "    }\n",
    "\n",
    "]"
   ]
  },
  {
   "cell_type": "code",
   "execution_count": 0,
   "metadata": {
    "application/vnd.databricks.v1+cell": {
     "cellMetadata": {
      "byteLimit": 2048000,
      "rowLimit": 10000
     },
     "inputWidgets": {},
     "nuid": "bc43edac-6584-46f8-af79-168806e01bf1",
     "showTitle": false,
     "tableResultSettingsMap": {},
     "title": ""
    }
   },
   "outputs": [],
   "source": [
    "for entity in ENTITY_CONFIG:\n",
    "    ingest_entity(\n",
    "        entity_config = entity,\n",
    "        bronze_schema = BRONZE_SCHEMA,\n",
    "        protocol = PROTOCOL,\n",
    "        spark = spark\n",
    "    )"
   ]
  }
 ],
 "metadata": {
  "application/vnd.databricks.v1+notebook": {
   "computePreferences": null,
   "dashboards": [],
   "environmentMetadata": {
    "base_environment": "",
    "environment_version": "4"
   },
   "inputWidgetPreferences": null,
   "language": "python",
   "notebookMetadata": {
    "pythonIndentUnit": 4
   },
   "notebookName": "01_ingest_json_raw_bronze",
   "widgets": {}
  },
  "language_info": {
   "name": "python"
  }
 },
 "nbformat": 4,
 "nbformat_minor": 0
}
